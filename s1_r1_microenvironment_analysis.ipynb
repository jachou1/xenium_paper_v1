{
 "cells": [
  {
   "cell_type": "code",
   "execution_count": null,
   "id": "33041dc6-805c-45ab-9961-fb1a7ae2c710",
   "metadata": {},
   "outputs": [],
   "source": [
    "## ME analysis (microenvironment analysis)"
   ]
  },
  {
   "cell_type": "code",
   "execution_count": 1,
   "id": "562c972e-6754-4ee6-89bd-da5b14ffd94f",
   "metadata": {},
   "outputs": [],
   "source": [
    "import numpy as np"
   ]
  },
  {
   "cell_type": "code",
   "execution_count": 2,
   "id": "58b070ed-2b1c-46dc-aea4-585e21d7cbfb",
   "metadata": {},
   "outputs": [],
   "source": [
    "import pandas\n",
    "from matplotlib import pyplot as plt"
   ]
  },
  {
   "cell_type": "code",
   "execution_count": null,
   "id": "4de3cfe5-6663-4315-9e8d-d87eac20964e",
   "metadata": {},
   "outputs": [],
   "source": [
    "import scanpy"
   ]
  },
  {
   "cell_type": "code",
   "execution_count": null,
   "id": "f5a845cf-fc7a-4ee7-b03e-1930842922b8",
   "metadata": {},
   "outputs": [],
   "source": [
    "# Let's make the cell-by-neighbor matrix for the entire tissue (Slide1_Region1)"
   ]
  },
  {
   "cell_type": "code",
   "execution_count": 3,
   "id": "f48736fc-b0bc-4caa-83b8-efadf1b20c0a",
   "metadata": {},
   "outputs": [],
   "source": [
    "distances_matrix = np.load('./whole_tissue_distances_mtx_new_imputed.npy')"
   ]
  },
  {
   "cell_type": "code",
   "execution_count": 4,
   "id": "8fb193ce-0ba7-427a-91cb-871ad240abde",
   "metadata": {},
   "outputs": [
    {
     "data": {
      "text/plain": [
       "array([[   0.        ,  899.75518219,  982.80890929, ..., 1094.90819031,\n",
       "        1094.93024045, 1095.61701721],\n",
       "       [   0.        ,  899.75518219,  982.80890929, ..., 1094.90819031,\n",
       "        1094.93024045, 1095.61701721],\n",
       "       [   8.19046701,    8.33202855,   26.37482535, ...,  110.90669372,\n",
       "         110.92310255,  111.26546103],\n",
       "       ...,\n",
       "       [ 181.02815819,  277.00539763,  541.76249655, ...,  600.62223067,\n",
       "         600.87648816,  600.88809416],\n",
       "       [ 301.73302567,  444.17027125,  447.6898322 , ...,  591.42013899,\n",
       "         591.75156071,  591.81594319],\n",
       "       [ 181.02815819,  376.5830585 ,  670.09910891, ...,  776.8311478 ,\n",
       "         777.49549358,  777.50928574]])"
      ]
     },
     "execution_count": 4,
     "metadata": {},
     "output_type": "execute_result"
    }
   ],
   "source": [
    "distances_matrix"
   ]
  },
  {
   "cell_type": "code",
   "execution_count": 6,
   "id": "7de4330b-c205-4b05-9a44-61a100aa7bb3",
   "metadata": {},
   "outputs": [],
   "source": [
    "distances_mask = np.load('./whole_tissue_distances_mask_new_imputed.npy')"
   ]
  },
  {
   "cell_type": "code",
   "execution_count": 7,
   "id": "b279b065-230b-479c-b8f8-f44c6812e5b0",
   "metadata": {},
   "outputs": [],
   "source": [
    "neighbor_graph = np.load('./whole_tissue_neighbor_graph_new_imputed.npy')"
   ]
  },
  {
   "cell_type": "code",
   "execution_count": 8,
   "id": "e174a70c-2a32-45b8-8018-cebcd9bb5372",
   "metadata": {},
   "outputs": [
    {
     "data": {
      "text/plain": [
       "array([[ True, False, False, ..., False, False, False],\n",
       "       [ True, False, False, ..., False, False, False],\n",
       "       [ True,  True,  True, ..., False, False, False],\n",
       "       ...,\n",
       "       [False, False, False, ..., False, False, False],\n",
       "       [False, False, False, ..., False, False, False],\n",
       "       [False, False, False, ..., False, False, False]])"
      ]
     },
     "execution_count": 8,
     "metadata": {},
     "output_type": "execute_result"
    }
   ],
   "source": [
    "distances_mask"
   ]
  },
  {
   "cell_type": "code",
   "execution_count": 9,
   "id": "fdd5ff02-c2c0-41f7-835f-346481428995",
   "metadata": {},
   "outputs": [
    {
     "data": {
      "text/plain": [
       "(61172, 100)"
      ]
     },
     "execution_count": 9,
     "metadata": {},
     "output_type": "execute_result"
    }
   ],
   "source": [
    "distances_mask.shape"
   ]
  },
  {
   "cell_type": "code",
   "execution_count": 11,
   "id": "f3b73e8f-b6ec-4264-ba8a-da9a6c11a0c1",
   "metadata": {},
   "outputs": [
    {
     "data": {
      "text/plain": [
       "array([ True, False, False, False, False, False, False, False, False,\n",
       "       False, False, False, False, False, False, False, False, False,\n",
       "       False, False, False, False, False, False, False, False, False,\n",
       "       False, False, False, False, False, False, False, False, False,\n",
       "       False, False, False, False, False, False, False, False, False,\n",
       "       False, False, False, False, False, False, False, False, False,\n",
       "       False, False, False, False, False, False, False, False, False,\n",
       "       False, False, False, False, False, False, False, False, False,\n",
       "       False, False, False, False, False, False, False, False, False,\n",
       "       False, False, False, False, False, False, False, False, False,\n",
       "       False, False, False, False, False, False, False, False, False,\n",
       "       False])"
      ]
     },
     "execution_count": 11,
     "metadata": {},
     "output_type": "execute_result"
    }
   ],
   "source": [
    "distances_mask[0, :]"
   ]
  },
  {
   "cell_type": "code",
   "execution_count": 12,
   "id": "5ed92c26-a4ba-426c-84d2-d2e7f4880f64",
   "metadata": {},
   "outputs": [
    {
     "data": {
      "text/plain": [
       "array([ True, False, False, False, False, False, False, False, False,\n",
       "       False, False, False, False, False, False, False, False, False,\n",
       "       False, False, False, False, False, False, False, False, False,\n",
       "       False, False, False, False, False, False, False, False, False,\n",
       "       False, False, False, False, False, False, False, False, False,\n",
       "       False, False, False, False, False, False, False, False, False,\n",
       "       False, False, False, False, False, False, False, False, False,\n",
       "       False, False, False, False, False, False, False, False, False,\n",
       "       False, False, False, False, False, False, False, False, False,\n",
       "       False, False, False, False, False, False, False, False, False,\n",
       "       False, False, False, False, False, False, False, False, False,\n",
       "       False])"
      ]
     },
     "execution_count": 12,
     "metadata": {},
     "output_type": "execute_result"
    }
   ],
   "source": [
    "distances_mask[1, :]"
   ]
  },
  {
   "cell_type": "code",
   "execution_count": 24,
   "id": "8ed0f70b-508a-478d-9484-6d1040fafd29",
   "metadata": {},
   "outputs": [
    {
     "data": {
      "text/plain": [
       "array([[    1,  1320,  6737, ...,  9898, 10630, 11004],\n",
       "       [    1,  1320,  6737, ...,  9898, 10630, 11004],\n",
       "       [    8,     3,    36, ...,   152,    22,   318],\n",
       "       ...,\n",
       "       [61171, 61168, 61162, ..., 58546, 61126, 59497],\n",
       "       [61167, 61158, 61160, ..., 60790, 60783, 60793],\n",
       "       [61169, 61168, 61162, ..., 58266, 58220, 59392]])"
      ]
     },
     "execution_count": 24,
     "metadata": {},
     "output_type": "execute_result"
    }
   ],
   "source": [
    "neighbor_graph"
   ]
  },
  {
   "cell_type": "code",
   "execution_count": 22,
   "id": "3028c437-2e1e-4277-9f05-6ca05f299723",
   "metadata": {},
   "outputs": [],
   "source": [
    "masked_matrix = neighbor_graph* distances_mask # here, if distances_mask = 0, the entry in masked_matrix = 0"
   ]
  },
  {
   "cell_type": "code",
   "execution_count": 23,
   "id": "fb200019-74e9-4a0e-b18a-a12c47433a8d",
   "metadata": {},
   "outputs": [
    {
     "data": {
      "text/plain": [
       "array([[ 1,  0,  0, ...,  0,  0,  0],\n",
       "       [ 1,  0,  0, ...,  0,  0,  0],\n",
       "       [ 8,  3, 36, ...,  0,  0,  0],\n",
       "       ...,\n",
       "       [ 0,  0,  0, ...,  0,  0,  0],\n",
       "       [ 0,  0,  0, ...,  0,  0,  0],\n",
       "       [ 0,  0,  0, ...,  0,  0,  0]])"
      ]
     },
     "execution_count": 23,
     "metadata": {},
     "output_type": "execute_result"
    }
   ],
   "source": [
    "# These are the neighbor indices (aka the row indices of the cells, \n",
    "# I want to use the cell labels of these neighbor indices\n",
    "masked_matrix"
   ]
  },
  {
   "cell_type": "code",
   "execution_count": 27,
   "id": "fe4347f9-7847-4147-a913-ecca623f457b",
   "metadata": {},
   "outputs": [],
   "source": [
    "test_masked_matrix = masked_matrix.astype(float)\n"
   ]
  },
  {
   "cell_type": "code",
   "execution_count": 28,
   "id": "3eb40f1f-d5f9-4d04-903b-e31aa97c0ff8",
   "metadata": {},
   "outputs": [],
   "source": [
    "test_masked_matrix[test_masked_matrix == 0] = np.nan"
   ]
  },
  {
   "cell_type": "code",
   "execution_count": 40,
   "id": "40ff1c44-9745-4064-9bef-0c4d27c72e10",
   "metadata": {},
   "outputs": [
    {
     "data": {
      "text/plain": [
       "array([[ 1., nan, nan, ..., nan, nan, nan],\n",
       "       [ 1., nan, nan, ..., nan, nan, nan],\n",
       "       [ 8.,  3., 36., ..., nan, nan, nan],\n",
       "       ...,\n",
       "       [nan, nan, nan, ..., nan, nan, nan],\n",
       "       [nan, nan, nan, ..., nan, nan, nan],\n",
       "       [nan, nan, nan, ..., nan, nan, nan]])"
      ]
     },
     "execution_count": 40,
     "metadata": {},
     "output_type": "execute_result"
    }
   ],
   "source": [
    "test_masked_matrix"
   ]
  },
  {
   "cell_type": "code",
   "execution_count": 38,
   "id": "619bfee1-9a3c-4eb3-98a6-6ac74699f83f",
   "metadata": {},
   "outputs": [
    {
     "data": {
      "text/plain": [
       "array([1042., 1006.,  923., 1103., 1188.,  828., 1129.,  911., 1228.,\n",
       "       1074.,  981., 1269., 1210.,   nan,   nan,   nan,   nan,   nan,\n",
       "         nan,   nan,   nan,   nan,   nan,   nan,   nan,   nan,   nan,\n",
       "         nan,   nan,   nan,   nan,   nan,   nan,   nan,   nan,   nan,\n",
       "         nan,   nan,   nan,   nan,   nan,   nan,   nan,   nan,   nan,\n",
       "         nan,   nan,   nan,   nan,   nan,   nan,   nan,   nan,   nan,\n",
       "         nan,   nan,   nan,   nan,   nan,   nan,   nan,   nan,   nan,\n",
       "         nan,   nan,   nan,   nan,   nan,   nan,   nan,   nan,   nan,\n",
       "         nan,   nan,   nan,   nan,   nan,   nan,   nan,   nan,   nan,\n",
       "         nan,   nan,   nan,   nan,   nan,   nan,   nan,   nan,   nan,\n",
       "         nan,   nan,   nan,   nan,   nan,   nan,   nan,   nan,   nan,\n",
       "         nan])"
      ]
     },
     "execution_count": 38,
     "metadata": {},
     "output_type": "execute_result"
    }
   ],
   "source": [
    "test_masked_matrix[1000, :]"
   ]
  },
  {
   "cell_type": "code",
   "execution_count": 41,
   "id": "f5bb3949-6410-4a0b-9139-2c3eb6682c64",
   "metadata": {},
   "outputs": [
    {
     "data": {
      "text/plain": [
       "array([  6.21979592,   8.42461153,  14.64939006,  16.48097537,\n",
       "        19.17327302,  21.55228882,  22.38925218,  24.02640564,\n",
       "        25.18649215,  25.45711016,  26.6790684 ,  27.31620518,\n",
       "        28.39823002,  30.49876275,  31.51668855,  31.84966559,\n",
       "        32.06994307,  32.29638143,  38.27341979,  38.37474893,\n",
       "        40.08749823,  40.11265433,  42.37109791,  45.53250473,\n",
       "        48.01315918,  48.55241796,  49.63742971,  50.38710254,\n",
       "        50.58835798,  51.52816323,  52.02532766,  52.82662624,\n",
       "        53.48882914,  54.81512324,  55.39811902,  56.48277185,\n",
       "        57.34247697,  57.95947593,  58.0330015 ,  59.47772043,\n",
       "        59.91996812,  62.30356842,  62.50091634,  63.45806016,\n",
       "        65.98800172,  66.59169396,  67.53506107,  70.06582989,\n",
       "        70.18828689,  70.27507817,  71.08850041,  72.6167146 ,\n",
       "        73.30557912,  73.40745921,  73.52528927,  74.29684478,\n",
       "        75.44481533,  76.54877883,  77.13012866,  77.73798533,\n",
       "        79.05527659,  79.46398807,  81.05268904,  82.17422777,\n",
       "        82.56715717,  83.71088642,  84.459507  ,  84.73352522,\n",
       "        85.34871212,  85.84334842,  86.49499602,  86.59126213,\n",
       "        90.11188283,  90.22555389,  90.47294483,  90.69032924,\n",
       "        91.10754478,  91.16568706,  91.61043533,  93.49517482,\n",
       "        95.44866746,  95.79479838,  96.08118882,  96.36958498,\n",
       "        99.27933993,  99.68969806,  99.70702605,  99.88106593,\n",
       "        99.89167885, 100.77865325, 102.1791666 , 102.44029993,\n",
       "       102.5690436 , 103.28903371, 104.09190994, 104.74944723,\n",
       "       104.80182053, 105.20020562, 105.61384337, 107.01307776])"
      ]
     },
     "execution_count": 41,
     "metadata": {},
     "output_type": "execute_result"
    }
   ],
   "source": [
    "distances_matrix[1000, :]"
   ]
  },
  {
   "cell_type": "code",
   "execution_count": 43,
   "id": "44360c2f-974b-43d0-b163-ec9260e492d7",
   "metadata": {},
   "outputs": [
    {
     "name": "stdout",
     "output_type": "stream",
     "text": [
      "/Users/jacquelinechou/Code/scanpy_env\n"
     ]
    }
   ],
   "source": [
    "!pwd"
   ]
  },
  {
   "cell_type": "code",
   "execution_count": 49,
   "id": "344e011c-6384-49e8-9afb-25d04c40d3e5",
   "metadata": {},
   "outputs": [],
   "source": [
    "import pandas as pd"
   ]
  },
  {
   "cell_type": "code",
   "execution_count": 51,
   "id": "b65c5b3c-20e4-4ff7-b26d-4d7cf3baae4c",
   "metadata": {},
   "outputs": [],
   "source": [
    "# Oddly, there are two entries at (0,0) centroid_x, centroid_y that have no transcripts allocated to it\n",
    "# But it's in Wesley's dataframe, which is super annoying... So everything I do here would need to be repeated w/ good labels\n",
    "\n",
    "ordered_sc_data = pd.read_parquet('./ordered_sc_data_wesley_labels.parquet')"
   ]
  },
  {
   "cell_type": "code",
   "execution_count": 52,
   "id": "1902fbf7-2e98-4a60-ae7c-b7db3159f349",
   "metadata": {},
   "outputs": [
    {
     "data": {
      "text/html": [
       "<div>\n",
       "<style scoped>\n",
       "    .dataframe tbody tr th:only-of-type {\n",
       "        vertical-align: middle;\n",
       "    }\n",
       "\n",
       "    .dataframe tbody tr th {\n",
       "        vertical-align: top;\n",
       "    }\n",
       "\n",
       "    .dataframe thead th {\n",
       "        text-align: right;\n",
       "    }\n",
       "</style>\n",
       "<table border=\"1\" class=\"dataframe\">\n",
       "  <thead>\n",
       "    <tr style=\"text-align: right;\">\n",
       "      <th></th>\n",
       "      <th>centroid_x</th>\n",
       "      <th>centroid_y</th>\n",
       "      <th>cell_area</th>\n",
       "      <th>HGF</th>\n",
       "      <th>CXCR4</th>\n",
       "      <th>CAVIN1</th>\n",
       "      <th>HIF1A</th>\n",
       "      <th>MEDAG</th>\n",
       "      <th>PTGDS</th>\n",
       "      <th>PECAM1</th>\n",
       "      <th>...</th>\n",
       "      <th>UPK3B</th>\n",
       "      <th>TNFRSF13B</th>\n",
       "      <th>TAT</th>\n",
       "      <th>GPX2</th>\n",
       "      <th>PPY</th>\n",
       "      <th>KLK11</th>\n",
       "      <th>RETN</th>\n",
       "      <th>C20orf85</th>\n",
       "      <th>LY6D</th>\n",
       "      <th>cell_labels_wes</th>\n",
       "    </tr>\n",
       "  </thead>\n",
       "  <tbody>\n",
       "    <tr>\n",
       "      <th>2565</th>\n",
       "      <td>0.000000</td>\n",
       "      <td>0.000000</td>\n",
       "      <td>0.0</td>\n",
       "      <td>0</td>\n",
       "      <td>0</td>\n",
       "      <td>0</td>\n",
       "      <td>0</td>\n",
       "      <td>0</td>\n",
       "      <td>0</td>\n",
       "      <td>0</td>\n",
       "      <td>...</td>\n",
       "      <td>0</td>\n",
       "      <td>0</td>\n",
       "      <td>0</td>\n",
       "      <td>0</td>\n",
       "      <td>0</td>\n",
       "      <td>0</td>\n",
       "      <td>0</td>\n",
       "      <td>0</td>\n",
       "      <td>0</td>\n",
       "      <td>3.0</td>\n",
       "    </tr>\n",
       "    <tr>\n",
       "      <th>8125</th>\n",
       "      <td>0.000000</td>\n",
       "      <td>0.000000</td>\n",
       "      <td>0.0</td>\n",
       "      <td>0</td>\n",
       "      <td>0</td>\n",
       "      <td>0</td>\n",
       "      <td>0</td>\n",
       "      <td>0</td>\n",
       "      <td>0</td>\n",
       "      <td>0</td>\n",
       "      <td>...</td>\n",
       "      <td>0</td>\n",
       "      <td>0</td>\n",
       "      <td>0</td>\n",
       "      <td>0</td>\n",
       "      <td>0</td>\n",
       "      <td>0</td>\n",
       "      <td>0</td>\n",
       "      <td>0</td>\n",
       "      <td>0</td>\n",
       "      <td>1.0</td>\n",
       "    </tr>\n",
       "    <tr>\n",
       "      <th>42013</th>\n",
       "      <td>101.315068</td>\n",
       "      <td>3239.493151</td>\n",
       "      <td>73.0</td>\n",
       "      <td>0</td>\n",
       "      <td>1</td>\n",
       "      <td>0</td>\n",
       "      <td>0</td>\n",
       "      <td>0</td>\n",
       "      <td>0</td>\n",
       "      <td>0</td>\n",
       "      <td>...</td>\n",
       "      <td>0</td>\n",
       "      <td>0</td>\n",
       "      <td>0</td>\n",
       "      <td>0</td>\n",
       "      <td>0</td>\n",
       "      <td>0</td>\n",
       "      <td>0</td>\n",
       "      <td>0</td>\n",
       "      <td>0</td>\n",
       "      <td>9.0</td>\n",
       "    </tr>\n",
       "    <tr>\n",
       "      <th>42009</th>\n",
       "      <td>103.129630</td>\n",
       "      <td>3231.361111</td>\n",
       "      <td>108.0</td>\n",
       "      <td>0</td>\n",
       "      <td>0</td>\n",
       "      <td>3</td>\n",
       "      <td>0</td>\n",
       "      <td>1</td>\n",
       "      <td>0</td>\n",
       "      <td>0</td>\n",
       "      <td>...</td>\n",
       "      <td>0</td>\n",
       "      <td>0</td>\n",
       "      <td>0</td>\n",
       "      <td>0</td>\n",
       "      <td>0</td>\n",
       "      <td>0</td>\n",
       "      <td>0</td>\n",
       "      <td>0</td>\n",
       "      <td>0</td>\n",
       "      <td>3.0</td>\n",
       "    </tr>\n",
       "    <tr>\n",
       "      <th>41966</th>\n",
       "      <td>103.746667</td>\n",
       "      <td>3163.486667</td>\n",
       "      <td>150.0</td>\n",
       "      <td>0</td>\n",
       "      <td>0</td>\n",
       "      <td>1</td>\n",
       "      <td>0</td>\n",
       "      <td>0</td>\n",
       "      <td>0</td>\n",
       "      <td>0</td>\n",
       "      <td>...</td>\n",
       "      <td>0</td>\n",
       "      <td>0</td>\n",
       "      <td>0</td>\n",
       "      <td>0</td>\n",
       "      <td>0</td>\n",
       "      <td>0</td>\n",
       "      <td>0</td>\n",
       "      <td>0</td>\n",
       "      <td>0</td>\n",
       "      <td>9.0</td>\n",
       "    </tr>\n",
       "    <tr>\n",
       "      <th>...</th>\n",
       "      <td>...</td>\n",
       "      <td>...</td>\n",
       "      <td>...</td>\n",
       "      <td>...</td>\n",
       "      <td>...</td>\n",
       "      <td>...</td>\n",
       "      <td>...</td>\n",
       "      <td>...</td>\n",
       "      <td>...</td>\n",
       "      <td>...</td>\n",
       "      <td>...</td>\n",
       "      <td>...</td>\n",
       "      <td>...</td>\n",
       "      <td>...</td>\n",
       "      <td>...</td>\n",
       "      <td>...</td>\n",
       "      <td>...</td>\n",
       "      <td>...</td>\n",
       "      <td>...</td>\n",
       "      <td>...</td>\n",
       "      <td>...</td>\n",
       "    </tr>\n",
       "    <tr>\n",
       "      <th>8855</th>\n",
       "      <td>3891.369863</td>\n",
       "      <td>4202.205479</td>\n",
       "      <td>73.0</td>\n",
       "      <td>0</td>\n",
       "      <td>0</td>\n",
       "      <td>0</td>\n",
       "      <td>0</td>\n",
       "      <td>0</td>\n",
       "      <td>0</td>\n",
       "      <td>0</td>\n",
       "      <td>...</td>\n",
       "      <td>0</td>\n",
       "      <td>0</td>\n",
       "      <td>0</td>\n",
       "      <td>0</td>\n",
       "      <td>0</td>\n",
       "      <td>0</td>\n",
       "      <td>0</td>\n",
       "      <td>0</td>\n",
       "      <td>0</td>\n",
       "      <td>6.0</td>\n",
       "    </tr>\n",
       "    <tr>\n",
       "      <th>55073</th>\n",
       "      <td>3988.473684</td>\n",
       "      <td>1838.631579</td>\n",
       "      <td>38.0</td>\n",
       "      <td>0</td>\n",
       "      <td>1</td>\n",
       "      <td>0</td>\n",
       "      <td>0</td>\n",
       "      <td>0</td>\n",
       "      <td>0</td>\n",
       "      <td>0</td>\n",
       "      <td>...</td>\n",
       "      <td>0</td>\n",
       "      <td>0</td>\n",
       "      <td>0</td>\n",
       "      <td>0</td>\n",
       "      <td>0</td>\n",
       "      <td>0</td>\n",
       "      <td>0</td>\n",
       "      <td>0</td>\n",
       "      <td>0</td>\n",
       "      <td>0.0</td>\n",
       "    </tr>\n",
       "    <tr>\n",
       "      <th>52425</th>\n",
       "      <td>4053.686275</td>\n",
       "      <td>1569.411765</td>\n",
       "      <td>51.0</td>\n",
       "      <td>0</td>\n",
       "      <td>0</td>\n",
       "      <td>1</td>\n",
       "      <td>0</td>\n",
       "      <td>0</td>\n",
       "      <td>0</td>\n",
       "      <td>0</td>\n",
       "      <td>...</td>\n",
       "      <td>0</td>\n",
       "      <td>0</td>\n",
       "      <td>0</td>\n",
       "      <td>0</td>\n",
       "      <td>0</td>\n",
       "      <td>0</td>\n",
       "      <td>0</td>\n",
       "      <td>0</td>\n",
       "      <td>0</td>\n",
       "      <td>8.0</td>\n",
       "    </tr>\n",
       "    <tr>\n",
       "      <th>49800</th>\n",
       "      <td>4182.720930</td>\n",
       "      <td>4280.674419</td>\n",
       "      <td>43.0</td>\n",
       "      <td>0</td>\n",
       "      <td>0</td>\n",
       "      <td>0</td>\n",
       "      <td>0</td>\n",
       "      <td>0</td>\n",
       "      <td>0</td>\n",
       "      <td>0</td>\n",
       "      <td>...</td>\n",
       "      <td>0</td>\n",
       "      <td>0</td>\n",
       "      <td>0</td>\n",
       "      <td>0</td>\n",
       "      <td>0</td>\n",
       "      <td>0</td>\n",
       "      <td>0</td>\n",
       "      <td>0</td>\n",
       "      <td>0</td>\n",
       "      <td>6.0</td>\n",
       "    </tr>\n",
       "    <tr>\n",
       "      <th>3548</th>\n",
       "      <td>4233.975610</td>\n",
       "      <td>1553.073171</td>\n",
       "      <td>41.0</td>\n",
       "      <td>0</td>\n",
       "      <td>0</td>\n",
       "      <td>0</td>\n",
       "      <td>0</td>\n",
       "      <td>0</td>\n",
       "      <td>0</td>\n",
       "      <td>0</td>\n",
       "      <td>...</td>\n",
       "      <td>0</td>\n",
       "      <td>0</td>\n",
       "      <td>0</td>\n",
       "      <td>0</td>\n",
       "      <td>0</td>\n",
       "      <td>0</td>\n",
       "      <td>0</td>\n",
       "      <td>0</td>\n",
       "      <td>0</td>\n",
       "      <td>6.0</td>\n",
       "    </tr>\n",
       "  </tbody>\n",
       "</table>\n",
       "<p>61172 rows × 431 columns</p>\n",
       "</div>"
      ],
      "text/plain": [
       "        centroid_x   centroid_y  cell_area  HGF  CXCR4  CAVIN1  HIF1A  MEDAG  \\\n",
       "2565      0.000000     0.000000        0.0    0      0       0      0      0   \n",
       "8125      0.000000     0.000000        0.0    0      0       0      0      0   \n",
       "42013   101.315068  3239.493151       73.0    0      1       0      0      0   \n",
       "42009   103.129630  3231.361111      108.0    0      0       3      0      1   \n",
       "41966   103.746667  3163.486667      150.0    0      0       1      0      0   \n",
       "...            ...          ...        ...  ...    ...     ...    ...    ...   \n",
       "8855   3891.369863  4202.205479       73.0    0      0       0      0      0   \n",
       "55073  3988.473684  1838.631579       38.0    0      1       0      0      0   \n",
       "52425  4053.686275  1569.411765       51.0    0      0       1      0      0   \n",
       "49800  4182.720930  4280.674419       43.0    0      0       0      0      0   \n",
       "3548   4233.975610  1553.073171       41.0    0      0       0      0      0   \n",
       "\n",
       "       PTGDS  PECAM1  ...  UPK3B  TNFRSF13B  TAT  GPX2  PPY  KLK11  RETN  \\\n",
       "2565       0       0  ...      0          0    0     0    0      0     0   \n",
       "8125       0       0  ...      0          0    0     0    0      0     0   \n",
       "42013      0       0  ...      0          0    0     0    0      0     0   \n",
       "42009      0       0  ...      0          0    0     0    0      0     0   \n",
       "41966      0       0  ...      0          0    0     0    0      0     0   \n",
       "...      ...     ...  ...    ...        ...  ...   ...  ...    ...   ...   \n",
       "8855       0       0  ...      0          0    0     0    0      0     0   \n",
       "55073      0       0  ...      0          0    0     0    0      0     0   \n",
       "52425      0       0  ...      0          0    0     0    0      0     0   \n",
       "49800      0       0  ...      0          0    0     0    0      0     0   \n",
       "3548       0       0  ...      0          0    0     0    0      0     0   \n",
       "\n",
       "       C20orf85  LY6D  cell_labels_wes  \n",
       "2565          0     0              3.0  \n",
       "8125          0     0              1.0  \n",
       "42013         0     0              9.0  \n",
       "42009         0     0              3.0  \n",
       "41966         0     0              9.0  \n",
       "...         ...   ...              ...  \n",
       "8855          0     0              6.0  \n",
       "55073         0     0              0.0  \n",
       "52425         0     0              8.0  \n",
       "49800         0     0              6.0  \n",
       "3548          0     0              6.0  \n",
       "\n",
       "[61172 rows x 431 columns]"
      ]
     },
     "execution_count": 52,
     "metadata": {},
     "output_type": "execute_result"
    }
   ],
   "source": [
    "ordered_sc_data"
   ]
  },
  {
   "cell_type": "code",
   "execution_count": 54,
   "id": "00a0e4b0-f573-4686-8080-1f13b68c8b0f",
   "metadata": {},
   "outputs": [],
   "source": [
    "cell_labels = np.array(ordered_sc_data.loc[:, 'cell_labels_wes'])"
   ]
  },
  {
   "cell_type": "code",
   "execution_count": 55,
   "id": "13e5f9ca-df8a-4fd0-97b1-7dd3565e077b",
   "metadata": {},
   "outputs": [
    {
     "data": {
      "text/plain": [
       "array([3., 1., 9., ..., 8., 6., 6.])"
      ]
     },
     "execution_count": 55,
     "metadata": {},
     "output_type": "execute_result"
    }
   ],
   "source": [
    "cell_labels"
   ]
  },
  {
   "cell_type": "code",
   "execution_count": 56,
   "id": "4be4f211-bbba-4b46-af14-a1e171d6b369",
   "metadata": {},
   "outputs": [],
   "source": [
    "# Let's remove the first two rows in the df b/c they have no transcripts at all...\n",
    "cell_labels = cell_labels[2:]"
   ]
  },
  {
   "cell_type": "code",
   "execution_count": 57,
   "id": "5b5f8121-7159-45a5-a9c8-c1e33bd08b6c",
   "metadata": {},
   "outputs": [
    {
     "data": {
      "text/plain": [
       "(61170,)"
      ]
     },
     "execution_count": 57,
     "metadata": {},
     "output_type": "execute_result"
    }
   ],
   "source": [
    "cell_labels.shape # 61170 cells left"
   ]
  },
  {
   "cell_type": "code",
   "execution_count": 64,
   "id": "7d9a04d1-2760-4ad8-8f36-3cf63a47f287",
   "metadata": {},
   "outputs": [
    {
     "data": {
      "text/plain": [
       "array([[ 1,  0,  0, ...,  0,  0,  0],\n",
       "       [ 1,  0,  0, ...,  0,  0,  0],\n",
       "       [ 8,  3, 36, ...,  0,  0,  0],\n",
       "       ...,\n",
       "       [ 0,  0,  0, ...,  0,  0,  0],\n",
       "       [ 0,  0,  0, ...,  0,  0,  0],\n",
       "       [ 0,  0,  0, ...,  0,  0,  0]])"
      ]
     },
     "execution_count": 64,
     "metadata": {},
     "output_type": "execute_result"
    }
   ],
   "source": [
    "masked_matrix # Keep in mind that the first 2 rows are not real, I'll just toss it out\n",
    "\n",
    "# So, I need to be able to pick out the cell-type each neighbor is, but the zeros mean that it's not within the threshold range\n",
    "# So I can change the zero-th index entry to a non-sensical value, like a string, so I know it doesn't correspond to anything. "
   ]
  },
  {
   "cell_type": "code",
   "execution_count": 104,
   "id": "686cef72-cfc6-4a59-a373-203737b0f151",
   "metadata": {},
   "outputs": [
    {
     "data": {
      "text/plain": [
       "array([ 8,  3, 36, 19,  0,  0,  0,  0,  0,  0])"
      ]
     },
     "execution_count": 104,
     "metadata": {},
     "output_type": "execute_result"
    }
   ],
   "source": [
    "masked_matrix[2, 0:10]"
   ]
  },
  {
   "cell_type": "code",
   "execution_count": 69,
   "id": "377b6822-3f4d-4e21-9a3c-17704c46792b",
   "metadata": {},
   "outputs": [
    {
     "data": {
      "text/plain": [
       "'cell_labels_wes'"
      ]
     },
     "execution_count": 69,
     "metadata": {},
     "output_type": "execute_result"
    }
   ],
   "source": [
    "ordered_sc_data.columns[-1]"
   ]
  },
  {
   "cell_type": "code",
   "execution_count": 72,
   "id": "e0fd4d2e-123b-4df9-837a-6b3b54d61718",
   "metadata": {},
   "outputs": [],
   "source": [
    "ordered_cell_labels = np.array(ordered_sc_data.loc[:, 'cell_labels_wes'])"
   ]
  },
  {
   "cell_type": "code",
   "execution_count": 101,
   "id": "c1aba4e8-a7d4-421b-a458-e6a6005665bd",
   "metadata": {},
   "outputs": [
    {
     "data": {
      "text/plain": [
       "array([nan, nan,  9.,  3.,  9.,  3.,  9.,  9.,  9.,  9.])"
      ]
     },
     "execution_count": 101,
     "metadata": {},
     "output_type": "execute_result"
    }
   ],
   "source": [
    "ordered_cell_labels[0:10]"
   ]
  },
  {
   "cell_type": "code",
   "execution_count": 105,
   "id": "eb8b2546-1bb5-41a4-9db3-eef7b9a66d51",
   "metadata": {},
   "outputs": [
    {
     "data": {
      "text/plain": [
       "9.0"
      ]
     },
     "execution_count": 105,
     "metadata": {},
     "output_type": "execute_result"
    }
   ],
   "source": [
    "ordered_cell_labels[19]"
   ]
  },
  {
   "cell_type": "code",
   "execution_count": 75,
   "id": "2edd7d95-3d26-42a0-925c-c0848584c127",
   "metadata": {},
   "outputs": [],
   "source": [
    "ordered_cell_labels[0] = np.nan"
   ]
  },
  {
   "cell_type": "code",
   "execution_count": 77,
   "id": "f4d34980-23c1-436b-bfb0-4f8236e09d21",
   "metadata": {},
   "outputs": [],
   "source": [
    "ordered_cell_labels[1] = np.nan"
   ]
  },
  {
   "cell_type": "code",
   "execution_count": 79,
   "id": "91477d09-f0c1-4d99-bc45-59e8fa7b4194",
   "metadata": {},
   "outputs": [
    {
     "data": {
      "text/plain": [
       "(61172,)"
      ]
     },
     "execution_count": 79,
     "metadata": {},
     "output_type": "execute_result"
    }
   ],
   "source": [
    "ordered_cell_labels.shape"
   ]
  },
  {
   "cell_type": "code",
   "execution_count": 80,
   "id": "dbc33d1a-bbd3-4fb9-8459-85cd017a917f",
   "metadata": {},
   "outputs": [],
   "source": [
    "cell_by_neighbors_cell_type_array = ordered_cell_labels[masked_matrix]"
   ]
  },
  {
   "cell_type": "code",
   "execution_count": null,
   "id": "88c66e7f-a601-470d-bf62-346da6cd682e",
   "metadata": {},
   "outputs": [],
   "source": []
  },
  {
   "cell_type": "code",
   "execution_count": 83,
   "id": "18236b0b-a533-4098-b36c-45faa0c6e0fe",
   "metadata": {},
   "outputs": [
    {
     "data": {
      "text/plain": [
       "array([[nan, nan, nan, ..., nan, nan, nan],\n",
       "       [nan, nan, nan, ..., nan, nan, nan],\n",
       "       [ 9.,  3.,  3., ..., nan, nan, nan],\n",
       "       ...,\n",
       "       [nan, nan, nan, ..., nan, nan, nan],\n",
       "       [nan, nan, nan, ..., nan, nan, nan],\n",
       "       [nan, nan, nan, ..., nan, nan, nan]])"
      ]
     },
     "execution_count": 83,
     "metadata": {},
     "output_type": "execute_result"
    }
   ],
   "source": [
    "cell_by_neighbors_cell_type_array"
   ]
  },
  {
   "cell_type": "code",
   "execution_count": 103,
   "id": "7e12c8bb-f981-49a3-8870-1920418d8e17",
   "metadata": {},
   "outputs": [
    {
     "data": {
      "text/plain": [
       "array([ 9.,  3.,  3.,  9., nan, nan, nan, nan, nan, nan, nan, nan, nan,\n",
       "       nan, nan, nan, nan, nan, nan, nan, nan, nan, nan, nan, nan, nan,\n",
       "       nan, nan, nan, nan, nan, nan, nan, nan, nan, nan, nan, nan, nan,\n",
       "       nan, nan, nan, nan, nan, nan, nan, nan, nan, nan, nan, nan, nan,\n",
       "       nan, nan, nan, nan, nan, nan, nan, nan, nan, nan, nan, nan, nan,\n",
       "       nan, nan, nan, nan, nan, nan, nan, nan, nan, nan, nan, nan, nan,\n",
       "       nan, nan, nan, nan, nan, nan, nan, nan, nan, nan, nan, nan, nan,\n",
       "       nan, nan, nan, nan, nan, nan, nan, nan, nan])"
      ]
     },
     "execution_count": 103,
     "metadata": {},
     "output_type": "execute_result"
    }
   ],
   "source": [
    "cell_by_neighbors_cell_type_array[2]"
   ]
  },
  {
   "cell_type": "code",
   "execution_count": 108,
   "id": "faa16236-413f-4ff1-a5f8-2d70b12889a5",
   "metadata": {
    "collapsed": true,
    "jupyter": {
     "outputs_hidden": true
    },
    "tags": []
   },
   "outputs": [
    {
     "data": {
      "text/plain": [
       "array([[ 6.,  6.,  2.,  3.,  6.,  1.,  4.,  6.,  6.,  2.,  3.,  3.,  3.,\n",
       "         6.,  1.,  3.,  6.,  6.,  6.,  1.],\n",
       "       [ 6.,  6.,  3.,  6.,  6.,  6.,  6.,  9.,  9.,  6.,  6.,  6.,  3.,\n",
       "         3.,  9.,  6.,  6.,  6., nan, nan],\n",
       "       [ 6.,  6.,  6.,  6.,  9.,  6.,  9.,  6.,  9.,  6.,  6.,  6.,  9.,\n",
       "         6., nan, nan, nan, nan, nan, nan],\n",
       "       [ 6.,  1.,  6.,  9.,  2.,  1.,  1.,  1.,  6.,  1.,  3.,  6.,  9.,\n",
       "         9.,  1.,  1.,  9., nan, nan, nan],\n",
       "       [ 9.,  9.,  6.,  9.,  9.,  9.,  5.,  3.,  0.,  9., 11.,  9.,  9.,\n",
       "         0.,  1., 10., 11.,  3.,  9.,  9.],\n",
       "       [ 1.,  0.,  1.,  1.,  1.,  1.,  1.,  1.,  1.,  6.,  3.,  1.,  1.,\n",
       "         3.,  1.,  8.,  1.,  0.,  9.,  2.],\n",
       "       [ 9.,  6.,  6.,  7.,  9.,  9.,  9.,  9.,  3.,  9.,  6.,  9.,  9.,\n",
       "         6., nan, nan, nan, nan, nan, nan],\n",
       "       [ 6.,  9.,  6.,  3.,  6.,  9.,  6.,  9.,  9.,  9.,  9.,  6.,  9.,\n",
       "         9.,  6.,  9., nan, nan, nan, nan],\n",
       "       [ 9.,  9.,  6.,  6., 10.,  9.,  9.,  9.,  6.,  9.,  6.,  6.,  6.,\n",
       "         8., 10.,  2.,  1.,  1.,  9.,  9.],\n",
       "       [ 9.,  3.,  9.,  9.,  9.,  9.,  0.,  3.,  3.,  3.,  6.,  6.,  3.,\n",
       "         3., nan, nan, nan, nan, nan, nan],\n",
       "       [ 1.,  1.,  3.,  3.,  9.,  1.,  3.,  1.,  6.,  3.,  9.,  8.,  9.,\n",
       "         6.,  2.,  9.,  2.,  2.,  9.,  9.],\n",
       "       [ 6.,  9.,  6.,  6.,  9.,  6.,  0., nan, nan, nan, nan, nan, nan,\n",
       "        nan, nan, nan, nan, nan, nan, nan],\n",
       "       [ 6.,  3.,  9.,  9.,  9.,  9.,  6., nan, nan, nan, nan, nan, nan,\n",
       "        nan, nan, nan, nan, nan, nan, nan],\n",
       "       [ 3.,  3.,  3.,  3.,  6.,  3.,  3.,  3.,  9.,  3.,  3.,  6.,  6.,\n",
       "         6.,  1.,  6.,  3.,  6.,  9.,  6.],\n",
       "       [ 2.,  1.,  3.,  2.,  1.,  8.,  9.,  9.,  1.,  1., 10.,  3.,  9.,\n",
       "         8.,  9.,  1.,  1.,  3.,  9., 10.],\n",
       "       [ 9.,  9.,  1.,  1.,  6.,  9.,  6.,  9.,  4.,  9.,  6.,  9., nan,\n",
       "        nan, nan, nan, nan, nan, nan, nan],\n",
       "       [ 1.,  6.,  3.,  9.,  3.,  9.,  3.,  3.,  9.,  9.,  9.,  1.,  9.,\n",
       "         1.,  3.,  1.,  3.,  9.,  1.,  9.],\n",
       "       [ 9.,  9.,  3.,  9.,  3.,  3.,  3.,  3.,  9.,  9.,  3.,  3.,  3.,\n",
       "         3.,  3., nan, nan, nan, nan, nan],\n",
       "       [ 0.,  1.,  1.,  6.,  9.,  3.,  9.,  1.,  6.,  3.,  6.,  6.,  1.,\n",
       "         1.,  1.,  5., 10.,  6.,  1., nan],\n",
       "       [ 6.,  6.,  6.,  8.,  9.,  6.,  6.,  6.,  2.,  6.,  3.,  6.,  1.,\n",
       "         8.,  9.,  6.,  6.,  6.,  6.,  1.],\n",
       "       [ 8.,  6.,  6.,  6.,  9.,  9.,  6.,  9.,  9.,  9.,  3.,  9.,  6.,\n",
       "         9.,  6.,  6.,  6.,  9.,  9.,  6.],\n",
       "       [ 6.,  6.,  9.,  6.,  6.,  6.,  1.,  6.,  6.,  3.,  9.,  9.,  6.,\n",
       "         6., nan, nan, nan, nan, nan, nan],\n",
       "       [ 2.,  6.,  9.,  9.,  2.,  9.,  2.,  9.,  9.,  9.,  9.,  9.,  1.,\n",
       "         9., nan, nan, nan, nan, nan, nan],\n",
       "       [ 1.,  1.,  9.,  3.,  3.,  1.,  2.,  3.,  2.,  9.,  1.,  8.,  3.,\n",
       "         6.,  9.,  2.,  9.,  9., 10.,  9.],\n",
       "       [ 6.,  7.,  9.,  6.,  6.,  9.,  9.,  6.,  6.,  6.,  9.,  6.,  3.,\n",
       "         7.,  3., 11.,  3.,  6.,  9.,  6.],\n",
       "       [ 6.,  6.,  1.,  1.,  1.,  1.,  9.,  1.,  9.,  2.,  3.,  1.,  9.,\n",
       "         1.,  1.,  6., nan, nan, nan, nan],\n",
       "       [ 9.,  9.,  9.,  9.,  9.,  3.,  2.,  9.,  6.,  6.,  7.,  3.,  2.,\n",
       "         7.,  6.,  3.,  9.,  1.,  9.,  7.],\n",
       "       [ 6.,  1.,  9.,  1.,  1.,  1.,  6.,  1.,  9.,  9.,  6.,  6.,  1.,\n",
       "         1.,  6.,  6.,  9.,  9.,  9.,  3.],\n",
       "       [ 4.,  6.,  6.,  6.,  9.,  6.,  5.,  6.,  3.,  5.,  6.,  8.,  6.,\n",
       "         6.,  6.,  9.,  9., nan, nan, nan],\n",
       "       [ 1.,  6.,  6.,  1.,  1.,  6.,  6.,  6.,  6.,  1.,  1.,  6.,  6.,\n",
       "         6.,  3.,  1.,  6.,  6.,  6., nan],\n",
       "       [ 6.,  9.,  6.,  6.,  6.,  6.,  9.,  6.,  6.,  6.,  3., nan, nan,\n",
       "        nan, nan, nan, nan, nan, nan, nan],\n",
       "       [ 6.,  9.,  9.,  6.,  9.,  6.,  9.,  2.,  9.,  6.,  1.,  9.,  6.,\n",
       "         1.,  6.,  1.,  6., nan, nan, nan],\n",
       "       [10.,  9.,  1.,  8.,  2.,  6.,  2.,  9.,  1.,  9.,  9.,  9.,  3.,\n",
       "         1.,  1.,  1.,  9.,  9.,  3.,  9.],\n",
       "       [ 3.,  9.,  3.,  3.,  3.,  3.,  9.,  1.,  3.,  6.,  3.,  9.,  3.,\n",
       "         1.,  3.,  3.,  9., nan, nan, nan],\n",
       "       [ 6.,  9.,  9.,  0.,  1.,  6.,  3.,  6.,  7.,  1.,  6.,  9.,  1.,\n",
       "         3.,  2.,  3., nan, nan, nan, nan],\n",
       "       [ 6.,  7.,  7.,  3.,  7.,  9.,  2.,  6.,  9.,  6.,  6.,  3.,  6.,\n",
       "         6.,  6.,  9.,  3.,  3.,  3.,  9.],\n",
       "       [ 0.,  9.,  1.,  1.,  1.,  2.,  1.,  9.,  1.,  8.,  1.,  1.,  3.,\n",
       "         1.,  0.,  0.,  3.,  1.,  6.,  1.],\n",
       "       [ 1.,  9.,  6.,  9.,  0.,  8.,  6.,  2.,  2.,  1.,  3.,  6.,  0.,\n",
       "         3.,  3.,  6.,  1., nan, nan, nan],\n",
       "       [ 6.,  1.,  6.,  6.,  3.,  6.,  6.,  6.,  3.,  9.,  3.,  9.,  6.,\n",
       "         6.,  3.,  9., nan, nan, nan, nan],\n",
       "       [ 7.,  9.,  6.,  6.,  6.,  6.,  6., 11.,  4., 11.,  3.,  9.,  9.,\n",
       "         4.,  6., nan, nan, nan, nan, nan]])"
      ]
     },
     "execution_count": 108,
     "metadata": {},
     "output_type": "execute_result"
    }
   ],
   "source": [
    "cell_by_neighbors_cell_type_array[60000:60040, 0:20]"
   ]
  },
  {
   "cell_type": "code",
   "execution_count": 109,
   "id": "998067c8-fab0-404f-9155-d2f8188b8fb0",
   "metadata": {},
   "outputs": [
    {
     "data": {
      "text/plain": [
       "array([[nan, nan, nan, ..., nan, nan, nan],\n",
       "       [nan, nan, nan, ..., nan, nan, nan],\n",
       "       [ 9.,  3.,  3., ..., nan, nan, nan],\n",
       "       ...,\n",
       "       [nan, nan, nan, ..., nan, nan, nan],\n",
       "       [nan, nan, nan, ..., nan, nan, nan],\n",
       "       [nan, nan, nan, ..., nan, nan, nan]])"
      ]
     },
     "execution_count": 109,
     "metadata": {},
     "output_type": "execute_result"
    }
   ],
   "source": [
    "# Now I can drop the first two rows b/c they don't correspond to a cell\n",
    "cell_by_neighbors_cell_type_array"
   ]
  },
  {
   "cell_type": "code",
   "execution_count": 110,
   "id": "8ea41c20-d565-4327-a9b4-8e659321489b",
   "metadata": {},
   "outputs": [
    {
     "data": {
      "text/plain": [
       "array([[ 9.,  3.,  3., ..., nan, nan, nan],\n",
       "       [ 9.,  9.,  9., ..., nan, nan, nan],\n",
       "       [ 9.,  9.,  3., ..., nan, nan, nan],\n",
       "       ...,\n",
       "       [nan, nan, nan, ..., nan, nan, nan],\n",
       "       [nan, nan, nan, ..., nan, nan, nan],\n",
       "       [nan, nan, nan, ..., nan, nan, nan]])"
      ]
     },
     "execution_count": 110,
     "metadata": {},
     "output_type": "execute_result"
    }
   ],
   "source": [
    "cell_by_neighbors_cell_type_array[2:]"
   ]
  },
  {
   "cell_type": "code",
   "execution_count": 114,
   "id": "427ebe2e-6dcc-481e-8509-bafa515b78a3",
   "metadata": {},
   "outputs": [],
   "source": [
    "filtered_cell_by_neighbors_cell_type_array = cell_by_neighbors_cell_type_array[2:]"
   ]
  },
  {
   "cell_type": "code",
   "execution_count": 111,
   "id": "115cf08b-df4b-4a17-a9f0-10e5afab3107",
   "metadata": {},
   "outputs": [],
   "source": [
    "# Per cell, let's get the number of cells per cell-type\n",
    "from collections import Counter"
   ]
  },
  {
   "cell_type": "code",
   "execution_count": 118,
   "id": "08005d52-fca4-4a00-8294-d8ca8925ee37",
   "metadata": {},
   "outputs": [],
   "source": [
    "array_without_nan = np.nan_to_num(filtered_cell_by_neighbors_cell_type_array, nan=616)\n"
   ]
  },
  {
   "cell_type": "code",
   "execution_count": 119,
   "id": "62d4dc57-a7c3-46e2-8b9d-81f54ed9c673",
   "metadata": {},
   "outputs": [
    {
     "data": {
      "text/plain": [
       "array([[  9.,   3.,   3., ..., 616., 616., 616.],\n",
       "       [  9.,   9.,   9., ..., 616., 616., 616.],\n",
       "       [  9.,   9.,   3., ..., 616., 616., 616.],\n",
       "       ...,\n",
       "       [616., 616., 616., ..., 616., 616., 616.],\n",
       "       [616., 616., 616., ..., 616., 616., 616.],\n",
       "       [616., 616., 616., ..., 616., 616., 616.]])"
      ]
     },
     "execution_count": 119,
     "metadata": {},
     "output_type": "execute_result"
    }
   ],
   "source": [
    "array_without_nan"
   ]
  },
  {
   "cell_type": "code",
   "execution_count": 123,
   "id": "750b225e-624a-4a32-9b26-c7f9fbc89665",
   "metadata": {},
   "outputs": [],
   "source": [
    "celltype_counters = [Counter(row) for row in array_without_nan]"
   ]
  },
  {
   "cell_type": "code",
   "execution_count": 124,
   "id": "c0244862-0451-42ad-a1a6-337600a2763f",
   "metadata": {
    "collapsed": true,
    "jupyter": {
     "outputs_hidden": true
    },
    "tags": []
   },
   "outputs": [
    {
     "data": {
      "text/plain": [
       "[Counter({9.0: 2, 3.0: 2, 616.0: 96}),\n",
       " Counter({9.0: 4, 3.0: 1, 616.0: 95}),\n",
       " Counter({9.0: 6, 3.0: 1, 616.0: 93}),\n",
       " Counter({9.0: 8, 3.0: 1, 616.0: 91}),\n",
       " Counter({9.0: 6, 3.0: 3, 616.0: 91}),\n",
       " Counter({9.0: 1, 3.0: 5, 616.0: 94}),\n",
       " Counter({9.0: 4, 3.0: 3, 616.0: 93}),\n",
       " Counter({9.0: 2, 3.0: 2, 616.0: 96}),\n",
       " Counter({9.0: 3, 3.0: 4, 616.0: 93}),\n",
       " Counter({9.0: 10, 3.0: 3, 616.0: 87}),\n",
       " Counter({9.0: 4, 3.0: 2, 616.0: 94}),\n",
       " Counter({9.0: 10, 3.0: 2, 616.0: 88}),\n",
       " Counter({3.0: 4, 9.0: 1, 616.0: 95}),\n",
       " Counter({3.0: 6, 9.0: 4, 616.0: 90}),\n",
       " Counter({3.0: 6, 9.0: 2, 616.0: 92}),\n",
       " Counter({9.0: 9, 3.0: 4, 616.0: 87}),\n",
       " Counter({3.0: 8, 9.0: 1, 616.0: 91}),\n",
       " Counter({9.0: 6, 3.0: 4, 616.0: 90}),\n",
       " Counter({9.0: 5, 3.0: 5, 616.0: 90}),\n",
       " Counter({9.0: 6, 3.0: 2, 616.0: 92}),\n",
       " Counter({9.0: 10, 3.0: 4, 616.0: 86}),\n",
       " Counter({3.0: 5, 9.0: 9, 616.0: 86}),\n",
       " Counter({3.0: 4, 9.0: 1, 616.0: 95}),\n",
       " Counter({9.0: 2, 3.0: 4, 616.0: 94}),\n",
       " Counter({3.0: 5, 9.0: 4, 616.0: 91}),\n",
       " Counter({9.0: 7, 3.0: 5, 616.0: 88}),\n",
       " Counter({9.0: 6, 3.0: 1, 616.0: 93}),\n",
       " Counter({9.0: 13, 3.0: 5, 616.0: 82}),\n",
       " Counter({9.0: 6, 3.0: 1, 616.0: 93}),\n",
       " Counter({3.0: 7, 9.0: 4, 616.0: 89}),\n",
       " Counter({3.0: 2, 9.0: 6, 616.0: 92}),\n",
       " Counter({3.0: 5, 9.0: 8, 616.0: 87}),\n",
       " Counter({3.0: 3, 9.0: 4, 616.0: 93}),\n",
       " Counter({9.0: 9, 3.0: 3, 616.0: 88}),\n",
       " Counter({9.0: 9, 3.0: 3, 616.0: 88}),\n",
       " Counter({3.0: 3, 9.0: 8, 616.0: 89}),\n",
       " Counter({9.0: 3, 3.0: 3, 616.0: 94}),\n",
       " Counter({3.0: 5, 9.0: 7, 616.0: 88}),\n",
       " Counter({9.0: 2, 3.0: 6, 616.0: 92}),\n",
       " Counter({3.0: 3, 9.0: 2, 616.0: 95}),\n",
       " Counter({9.0: 10, 3.0: 5, 616.0: 85}),\n",
       " Counter({3.0: 4, 9.0: 2, 616.0: 94}),\n",
       " Counter({9.0: 9, 3.0: 1, 1.0: 1, 616.0: 89}),\n",
       " Counter({3.0: 6, 9.0: 1, 616.0: 93}),\n",
       " Counter({3.0: 9, 9.0: 2, 616.0: 89}),\n",
       " Counter({9.0: 9, 3.0: 7, 616.0: 84}),\n",
       " Counter({9.0: 9, 3.0: 3, 616.0: 88}),\n",
       " Counter({3.0: 6, 9.0: 7, 616.0: 87}),\n",
       " Counter({3.0: 10, 9.0: 1, 616.0: 89}),\n",
       " Counter({9.0: 8, 3.0: 10, 616.0: 82}),\n",
       " Counter({9.0: 10, 3.0: 2, 616.0: 88}),\n",
       " Counter({9.0: 7, 3.0: 2, 616.0: 91}),\n",
       " Counter({9.0: 4, 3.0: 5, 616.0: 91}),\n",
       " Counter({9.0: 8, 3.0: 7, 6.0: 1, 616.0: 84}),\n",
       " Counter({9.0: 10, 3.0: 3, 616.0: 87}),\n",
       " Counter({9.0: 6, 3.0: 2, 1.0: 1, 616.0: 91}),\n",
       " Counter({9.0: 9, 3.0: 5, 616.0: 86}),\n",
       " Counter({3.0: 9, 9.0: 2, 616.0: 89}),\n",
       " Counter({9.0: 8, 3.0: 2, 616.0: 90}),\n",
       " Counter({3.0: 2, 9.0: 9, 616.0: 89}),\n",
       " Counter({9.0: 13, 3.0: 5, 616.0: 82}),\n",
       " Counter({9.0: 12, 3.0: 2, 616.0: 86}),\n",
       " Counter({9.0: 6, 3.0: 1, 616.0: 93}),\n",
       " Counter({9.0: 7, 3.0: 4, 616.0: 89}),\n",
       " Counter({9.0: 7, 3.0: 8, 616.0: 85}),\n",
       " Counter({3.0: 6, 9.0: 4, 6.0: 1, 616.0: 89}),\n",
       " Counter({3.0: 3, 9.0: 3, 616.0: 94}),\n",
       " Counter({9.0: 6, 3.0: 3, 1.0: 1, 616.0: 90}),\n",
       " Counter({9.0: 2, 3.0: 5, 616.0: 93}),\n",
       " Counter({3.0: 6, 9.0: 10, 616.0: 84}),\n",
       " Counter({9.0: 9, 3.0: 3, 616.0: 88}),\n",
       " Counter({9.0: 9, 3.0: 5, 616.0: 86}),\n",
       " Counter({9.0: 2, 3.0: 7, 616.0: 91}),\n",
       " Counter({3.0: 9, 9.0: 9, 616.0: 82}),\n",
       " Counter({3.0: 4, 9.0: 3, 616.0: 93}),\n",
       " Counter({9.0: 8, 3.0: 2, 616.0: 90}),\n",
       " Counter({9.0: 7, 3.0: 9, 616.0: 84}),\n",
       " Counter({9.0: 11, 3.0: 3, 616.0: 86}),\n",
       " Counter({3.0: 11, 9.0: 3, 616.0: 86}),\n",
       " Counter({9.0: 9, 3.0: 9, 616.0: 82}),\n",
       " Counter({9.0: 2, 3.0: 8, 616.0: 90}),\n",
       " Counter({3.0: 6, 9.0: 1, 616.0: 93}),\n",
       " Counter({9.0: 6, 3.0: 4, 1.0: 1, 616.0: 89}),\n",
       " Counter({3.0: 9, 616.0: 91}),\n",
       " Counter({9.0: 10, 3.0: 5, 6.0: 1, 616.0: 84}),\n",
       " Counter({3.0: 11, 9.0: 3, 616.0: 86}),\n",
       " Counter({3.0: 4, 9.0: 5, 616.0: 91}),\n",
       " Counter({3.0: 2, 9.0: 8, 6.0: 1, 616.0: 89}),\n",
       " Counter({9.0: 9, 3.0: 5, 616.0: 86}),\n",
       " Counter({3.0: 8, 9.0: 8, 6.0: 1, 616.0: 83}),\n",
       " Counter({3.0: 10, 9.0: 3, 6.0: 2, 616.0: 85}),\n",
       " Counter({9.0: 8, 3.0: 5, 1.0: 1, 6.0: 1, 616.0: 85}),\n",
       " Counter({9.0: 9, 3.0: 1, 616.0: 90}),\n",
       " Counter({9.0: 9, 6.0: 1, 3.0: 5, 616.0: 85}),\n",
       " Counter({9.0: 8, 3.0: 3, 616.0: 89}),\n",
       " Counter({3.0: 12, 616.0: 88}),\n",
       " Counter({3.0: 11, 9.0: 4, 616.0: 85}),\n",
       " Counter({9.0: 5, 3.0: 7, 616.0: 88}),\n",
       " Counter({9.0: 4, 3.0: 4, 616.0: 92}),\n",
       " Counter({1.0: 1, 9.0: 6, 3.0: 4, 616.0: 89}),\n",
       " Counter({9.0: 5, 3.0: 3, 616.0: 92}),\n",
       " Counter({3.0: 5, 9.0: 4, 616.0: 91}),\n",
       " Counter({9.0: 10, 3.0: 4, 616.0: 86}),\n",
       " Counter({9.0: 9, 3.0: 2, 616.0: 89}),\n",
       " Counter({9.0: 3, 3.0: 2, 616.0: 95}),\n",
       " Counter({9.0: 6, 3.0: 3, 616.0: 91}),\n",
       " Counter({9.0: 5, 3.0: 6, 616.0: 89}),\n",
       " Counter({3.0: 5, 9.0: 6, 6.0: 1, 616.0: 88}),\n",
       " Counter({9.0: 9, 3.0: 7, 6.0: 2, 616.0: 82}),\n",
       " Counter({9.0: 9, 6.0: 3, 3.0: 1, 616.0: 87}),\n",
       " Counter({9.0: 8, 3.0: 7, 6.0: 1, 616.0: 84}),\n",
       " Counter({9.0: 7, 3.0: 2, 616.0: 91}),\n",
       " Counter({9.0: 6, 3.0: 3, 6.0: 1, 616.0: 90}),\n",
       " Counter({9.0: 11, 3.0: 1, 616.0: 88}),\n",
       " Counter({9.0: 7, 3.0: 9, 616.0: 84}),\n",
       " Counter({9.0: 1, 3.0: 12, 6.0: 1, 616.0: 86}),\n",
       " Counter({9.0: 6, 3.0: 3, 616.0: 91}),\n",
       " Counter({9.0: 6, 3.0: 9, 616.0: 85}),\n",
       " Counter({3.0: 6, 9.0: 8, 6.0: 2, 616.0: 84}),\n",
       " Counter({3.0: 11, 9.0: 3, 616.0: 86}),\n",
       " Counter({9.0: 9, 3.0: 4, 6.0: 1, 616.0: 86}),\n",
       " Counter({9.0: 5, 3.0: 2, 616.0: 93}),\n",
       " Counter({9.0: 7, 3.0: 3, 616.0: 90}),\n",
       " Counter({3.0: 7, 9.0: 8, 6.0: 2, 616.0: 83}),\n",
       " Counter({9.0: 7, 3.0: 5, 616.0: 88}),\n",
       " Counter({3.0: 5, 9.0: 8, 6.0: 1, 616.0: 86}),\n",
       " Counter({3.0: 3, 6.0: 4, 9.0: 5, 616.0: 88}),\n",
       " Counter({3.0: 8, 9.0: 9, 6.0: 3, 616.0: 80}),\n",
       " Counter({3.0: 9, 9.0: 5, 616.0: 86}),\n",
       " Counter({3.0: 3, 9.0: 9, 616.0: 88}),\n",
       " Counter({9.0: 9, 3.0: 8, 6.0: 1, 616.0: 82}),\n",
       " Counter({9.0: 10, 3.0: 1, 616.0: 89}),\n",
       " Counter({9.0: 5, 3.0: 3, 616.0: 92}),\n",
       " Counter({3.0: 8, 9.0: 6, 616.0: 86}),\n",
       " Counter({9.0: 5, 3.0: 10, 6.0: 2, 616.0: 83}),\n",
       " Counter({3.0: 6, 9.0: 6, 1.0: 1, 6.0: 1, 616.0: 86}),\n",
       " Counter({3.0: 10, 9.0: 8, 616.0: 82}),\n",
       " Counter({9.0: 13, 3.0: 3, 6.0: 1, 616.0: 83}),\n",
       " Counter({9.0: 9, 6.0: 2, 3.0: 4, 616.0: 85}),\n",
       " Counter({9.0: 8, 3.0: 9, 616.0: 83}),\n",
       " Counter({9.0: 11, 3.0: 3, 6.0: 1, 616.0: 85}),\n",
       " Counter({9.0: 4, 3.0: 7, 616.0: 89}),\n",
       " Counter({9.0: 6, 3.0: 2, 616.0: 92}),\n",
       " Counter({3.0: 6, 9.0: 7, 616.0: 87}),\n",
       " Counter({3.0: 11, 9.0: 6, 6.0: 1, 616.0: 82}),\n",
       " Counter({9.0: 12, 6.0: 2, 3.0: 5, 616.0: 81}),\n",
       " Counter({9.0: 15, 6.0: 1, 3.0: 5, 616.0: 79}),\n",
       " Counter({3.0: 6, 9.0: 11, 616.0: 83}),\n",
       " Counter({9.0: 10, 3.0: 4, 6.0: 2, 616.0: 84}),\n",
       " Counter({9.0: 8, 3.0: 5, 616.0: 87}),\n",
       " Counter({3.0: 8, 6.0: 2, 9.0: 4, 616.0: 86}),\n",
       " Counter({9.0: 9, 3.0: 4, 616.0: 87}),\n",
       " Counter({3.0: 10, 9.0: 9, 6.0: 2, 616.0: 79}),\n",
       " Counter({3.0: 9, 9.0: 6, 616.0: 85}),\n",
       " Counter({6.0: 5, 9.0: 7, 3.0: 2, 616.0: 86}),\n",
       " Counter({3.0: 10, 9.0: 10, 616.0: 80}),\n",
       " Counter({9.0: 6, 3.0: 7, 616.0: 87}),\n",
       " Counter({9.0: 9, 6.0: 1, 3.0: 7, 616.0: 83}),\n",
       " Counter({9.0: 9, 3.0: 3, 616.0: 88}),\n",
       " Counter({9.0: 8, 3.0: 4, 6.0: 1, 616.0: 87}),\n",
       " Counter({9.0: 6, 3.0: 2, 616.0: 92}),\n",
       " Counter({9.0: 8, 3.0: 5, 6.0: 6, 616.0: 81}),\n",
       " Counter({3.0: 10, 9.0: 10, 6.0: 2, 616.0: 78}),\n",
       " Counter({3.0: 14, 9.0: 7, 616.0: 79}),\n",
       " Counter({6.0: 4, 3.0: 10, 9.0: 4, 616.0: 82}),\n",
       " Counter({3.0: 2, 9.0: 11, 6.0: 2, 1.0: 1, 616.0: 84}),\n",
       " Counter({616.0: 100}),\n",
       " Counter({3.0: 8, 9.0: 8, 616.0: 84}),\n",
       " Counter({9.0: 9, 3.0: 3, 6.0: 3, 616.0: 85}),\n",
       " Counter({9.0: 7, 6.0: 5, 3.0: 1, 616.0: 87}),\n",
       " Counter({6.0: 2, 3.0: 9, 9.0: 6, 616.0: 83}),\n",
       " Counter({6.0: 2, 9.0: 12, 3.0: 5, 616.0: 81}),\n",
       " Counter({3.0: 7, 9.0: 6, 1.0: 1, 6.0: 2, 616.0: 84}),\n",
       " Counter({9.0: 5, 6.0: 6, 3.0: 3, 616.0: 86}),\n",
       " Counter({9.0: 2, 3.0: 13, 6.0: 4, 616.0: 81}),\n",
       " Counter({3.0: 6, 6.0: 8, 9.0: 6, 616.0: 80}),\n",
       " Counter({9.0: 9, 3.0: 10, 6.0: 2, 616.0: 79}),\n",
       " Counter({9.0: 5, 3.0: 8, 616.0: 87}),\n",
       " Counter({9.0: 6, 3.0: 1, 616.0: 93}),\n",
       " Counter({3.0: 7, 9.0: 11, 616.0: 82}),\n",
       " Counter({6.0: 2, 9.0: 6, 3.0: 8, 616.0: 84}),\n",
       " Counter({9.0: 6, 6.0: 7, 3.0: 4, 616.0: 83}),\n",
       " Counter({3.0: 8, 6.0: 2, 9.0: 5, 616.0: 85}),\n",
       " Counter({9.0: 12, 3.0: 7, 616.0: 81}),\n",
       " Counter({3.0: 9, 9.0: 10, 6.0: 3, 616.0: 78}),\n",
       " Counter({9.0: 6, 3.0: 6, 1.0: 1, 6.0: 2, 616.0: 85}),\n",
       " Counter({9.0: 7, 3.0: 1, 6.0: 8, 616.0: 84}),\n",
       " Counter({6.0: 6, 9.0: 5, 3.0: 2, 616.0: 87}),\n",
       " Counter({3.0: 3, 9.0: 10, 616.0: 87}),\n",
       " Counter({3.0: 4, 9.0: 6, 6.0: 1, 616.0: 89}),\n",
       " Counter({3.0: 3, 9.0: 9, 6.0: 1, 1.0: 1, 616.0: 86}),\n",
       " Counter({3.0: 10, 9.0: 10, 6.0: 1, 616.0: 79}),\n",
       " Counter({3.0: 7, 9.0: 4, 6.0: 3, 1.0: 1, 616.0: 85}),\n",
       " Counter({9.0: 9, 3.0: 5, 6.0: 3, 616.0: 83}),\n",
       " Counter({9.0: 10, 3.0: 8, 6.0: 1, 616.0: 81}),\n",
       " Counter({9.0: 7, 3.0: 7, 616.0: 86}),\n",
       " Counter({3.0: 6, 9.0: 10, 616.0: 84}),\n",
       " Counter({3.0: 10, 9.0: 12, 616.0: 78}),\n",
       " Counter({3.0: 7, 9.0: 5, 6.0: 1, 616.0: 87}),\n",
       " Counter({9.0: 10, 3.0: 2, 616.0: 88}),\n",
       " Counter({9.0: 8, 3.0: 10, 6.0: 1, 616.0: 81}),\n",
       " Counter({3.0: 8, 9.0: 9, 6.0: 4, 616.0: 79}),\n",
       " Counter({9.0: 5, 3.0: 2, 6.0: 4, 616.0: 89}),\n",
       " Counter({3.0: 2, 9.0: 6, 616.0: 92}),\n",
       " Counter({9.0: 12, 3.0: 5, 616.0: 83}),\n",
       " Counter({9.0: 10, 616.0: 90}),\n",
       " Counter({3.0: 3, 9.0: 13, 616.0: 84}),\n",
       " Counter({6.0: 1, 9.0: 8, 3.0: 7, 616.0: 84}),\n",
       " Counter({3.0: 8, 9.0: 8, 6.0: 1, 616.0: 83}),\n",
       " Counter({3.0: 2, 9.0: 5, 6.0: 2, 616.0: 91}),\n",
       " Counter({6.0: 8, 3.0: 1, 9.0: 6, 616.0: 85}),\n",
       " Counter({3.0: 5, 9.0: 14, 616.0: 81}),\n",
       " Counter({3.0: 5, 9.0: 9, 616.0: 86}),\n",
       " Counter({9.0: 10, 3.0: 5, 616.0: 85}),\n",
       " Counter({6.0: 8, 3.0: 7, 9.0: 6, 616.0: 79}),\n",
       " Counter({9.0: 6, 3.0: 13, 6.0: 1, 616.0: 80}),\n",
       " Counter({9.0: 5, 3.0: 2, 616.0: 93}),\n",
       " Counter({9.0: 11, 3.0: 2, 616.0: 87}),\n",
       " Counter({9.0: 10, 3.0: 10, 6.0: 3, 616.0: 77}),\n",
       " Counter({9.0: 13, 3.0: 7, 616.0: 80}),\n",
       " Counter({9.0: 8, 3.0: 6, 616.0: 86}),\n",
       " Counter({3.0: 9, 9.0: 12, 6.0: 1, 616.0: 78}),\n",
       " Counter({9.0: 7, 6.0: 8, 3.0: 6, 616.0: 79}),\n",
       " Counter({9.0: 7, 3.0: 6, 616.0: 87}),\n",
       " Counter({9.0: 3, 3.0: 3, 616.0: 94}),\n",
       " Counter({3.0: 10, 9.0: 8, 6.0: 1, 616.0: 81}),\n",
       " Counter({9.0: 8, 3.0: 2, 616.0: 90}),\n",
       " Counter({9.0: 11, 3.0: 9, 6.0: 3, 616.0: 77}),\n",
       " Counter({9.0: 4, 3.0: 7, 6.0: 4, 1.0: 1, 616.0: 84}),\n",
       " Counter({6.0: 8, 9.0: 4, 3.0: 4, 616.0: 84}),\n",
       " Counter({9.0: 9, 6.0: 1, 3.0: 7, 616.0: 83}),\n",
       " Counter({9.0: 5, 6.0: 9, 3.0: 7, 616.0: 79}),\n",
       " Counter({9.0: 8, 3.0: 10, 6.0: 2, 616.0: 80}),\n",
       " Counter({9.0: 9, 3.0: 7, 6.0: 1, 616.0: 83}),\n",
       " Counter({9.0: 4, 3.0: 3, 616.0: 93}),\n",
       " Counter({6.0: 1, 9.0: 12, 3.0: 8, 616.0: 79}),\n",
       " Counter({9.0: 9, 3.0: 6, 6.0: 2, 616.0: 83}),\n",
       " Counter({6.0: 7, 9.0: 8, 3.0: 1, 616.0: 84}),\n",
       " Counter({9.0: 10, 3.0: 8, 6.0: 2, 616.0: 80}),\n",
       " Counter({6.0: 8, 3.0: 9, 9.0: 3, 616.0: 80}),\n",
       " Counter({9.0: 8, 3.0: 2, 6.0: 1, 616.0: 89}),\n",
       " Counter({9.0: 7, 6.0: 1, 3.0: 3, 616.0: 89}),\n",
       " Counter({9.0: 11, 3.0: 9, 6.0: 1, 616.0: 79}),\n",
       " Counter({9.0: 8, 3.0: 12, 6.0: 1, 616.0: 79}),\n",
       " Counter({3.0: 8, 6.0: 8, 9.0: 5, 616.0: 79}),\n",
       " Counter({3.0: 3, 9.0: 10, 616.0: 87}),\n",
       " Counter({3.0: 6, 9.0: 10, 6.0: 1, 616.0: 83}),\n",
       " Counter({9.0: 7, 6.0: 6, 1.0: 1, 3.0: 2, 616.0: 84}),\n",
       " Counter({9.0: 11, 6.0: 3, 3.0: 8, 616.0: 78}),\n",
       " Counter({9.0: 8, 3.0: 5, 616.0: 87}),\n",
       " Counter({6.0: 12, 9.0: 5, 616.0: 83}),\n",
       " Counter({9.0: 4, 6.0: 5, 3.0: 6, 1.0: 1, 616.0: 84}),\n",
       " Counter({3.0: 8, 9.0: 14, 6.0: 1, 616.0: 77}),\n",
       " Counter({3.0: 3, 9.0: 6, 616.0: 91}),\n",
       " Counter({9.0: 6, 3.0: 4, 6.0: 2, 616.0: 88}),\n",
       " Counter({3.0: 5, 9.0: 6, 6.0: 1, 616.0: 88}),\n",
       " Counter({9.0: 9, 3.0: 4, 6.0: 3, 1.0: 1, 616.0: 83}),\n",
       " Counter({9.0: 8, 3.0: 6, 6.0: 3, 616.0: 83}),\n",
       " Counter({9.0: 8, 3.0: 4, 616.0: 88}),\n",
       " Counter({3.0: 6, 9.0: 12, 616.0: 82}),\n",
       " Counter({9.0: 4, 616.0: 96}),\n",
       " Counter({9.0: 3, 3.0: 1, 616.0: 96}),\n",
       " Counter({3.0: 6, 6.0: 3, 9.0: 9, 616.0: 82}),\n",
       " Counter({9.0: 7, 3.0: 3, 6.0: 1, 616.0: 89}),\n",
       " Counter({3.0: 8, 6.0: 3, 9.0: 12, 616.0: 77}),\n",
       " Counter({9.0: 7, 6.0: 8, 1.0: 1, 3.0: 1, 616.0: 83}),\n",
       " Counter({3.0: 3, 9.0: 9, 616.0: 88}),\n",
       " Counter({9.0: 13, 3.0: 1, 616.0: 86}),\n",
       " Counter({3.0: 7, 9.0: 8, 6.0: 4, 616.0: 81}),\n",
       " Counter({9.0: 7, 3.0: 6, 616.0: 87}),\n",
       " Counter({3.0: 6, 9.0: 5, 6.0: 4, 616.0: 85}),\n",
       " Counter({3.0: 6, 9.0: 8, 6.0: 1, 616.0: 85}),\n",
       " Counter({9.0: 7, 3.0: 5, 616.0: 88}),\n",
       " Counter({3.0: 7, 9.0: 4, 6.0: 4, 616.0: 85}),\n",
       " Counter({6.0: 8, 9.0: 6, 3.0: 6, 616.0: 80}),\n",
       " Counter({9.0: 4, 3.0: 3, 616.0: 93}),\n",
       " Counter({3.0: 7, 6.0: 5, 9.0: 7, 616.0: 81}),\n",
       " Counter({9.0: 9, 3.0: 2, 616.0: 89}),\n",
       " Counter({9.0: 9, 3.0: 3, 616.0: 88}),\n",
       " Counter({9.0: 6, 3.0: 7, 6.0: 8, 616.0: 79}),\n",
       " Counter({9.0: 10, 3.0: 7, 6.0: 2, 616.0: 81}),\n",
       " Counter({9.0: 5, 6.0: 9, 1.0: 1, 3.0: 2, 616.0: 83}),\n",
       " Counter({9.0: 14, 6.0: 4, 3.0: 8, 616.0: 74}),\n",
       " Counter({9.0: 12, 3.0: 5, 6.0: 4, 616.0: 79}),\n",
       " Counter({3.0: 10, 9.0: 12, 6.0: 1, 616.0: 77}),\n",
       " Counter({9.0: 4, 6.0: 11, 3.0: 4, 616.0: 81}),\n",
       " Counter({9.0: 8, 3.0: 3, 616.0: 89}),\n",
       " Counter({9.0: 8, 6.0: 10, 3.0: 1, 616.0: 81}),\n",
       " Counter({9.0: 13, 3.0: 8, 6.0: 3, 616.0: 76}),\n",
       " Counter({6.0: 6, 9.0: 5, 3.0: 3, 616.0: 86}),\n",
       " Counter({3.0: 6, 6.0: 4, 9.0: 7, 616.0: 83}),\n",
       " Counter({9.0: 10, 3.0: 9, 6.0: 2, 616.0: 79}),\n",
       " Counter({3.0: 5, 9.0: 7, 616.0: 88}),\n",
       " Counter({9.0: 12, 3.0: 9, 6.0: 3, 616.0: 76}),\n",
       " Counter({6.0: 7, 3.0: 8, 9.0: 5, 616.0: 80}),\n",
       " Counter({3.0: 5, 9.0: 8, 616.0: 87}),\n",
       " Counter({3.0: 6, 9.0: 12, 6.0: 3, 616.0: 79}),\n",
       " Counter({3.0: 5, 9.0: 7, 6.0: 2, 1.0: 1, 8.0: 1, 616.0: 84}),\n",
       " Counter({9.0: 7, 3.0: 7, 616.0: 86}),\n",
       " Counter({9.0: 7, 3.0: 5, 616.0: 88}),\n",
       " Counter({3.0: 3, 9.0: 10, 616.0: 87}),\n",
       " Counter({3.0: 1, 9.0: 5, 6.0: 11, 616.0: 83}),\n",
       " Counter({9.0: 12, 3.0: 3, 6.0: 5, 616.0: 80}),\n",
       " Counter({3.0: 7, 9.0: 8, 6.0: 1, 616.0: 84}),\n",
       " Counter({6.0: 2, 3.0: 8, 9.0: 15, 616.0: 75}),\n",
       " Counter({9.0: 9, 3.0: 2, 616.0: 89}),\n",
       " Counter({9.0: 6, 3.0: 6, 616.0: 88}),\n",
       " Counter({3.0: 6, 9.0: 8, 6.0: 1, 616.0: 85}),\n",
       " Counter({9.0: 13, 3.0: 7, 6.0: 3, 616.0: 77}),\n",
       " Counter({6.0: 12, 9.0: 7, 1.0: 1, 616.0: 80}),\n",
       " Counter({6.0: 3, 9.0: 16, 3.0: 7, 616.0: 74}),\n",
       " Counter({9.0: 9, 3.0: 5, 616.0: 86}),\n",
       " Counter({3.0: 1, 6.0: 4, 9.0: 8, 616.0: 87}),\n",
       " Counter({9.0: 10, 6.0: 2, 3.0: 5, 616.0: 83}),\n",
       " Counter({9.0: 4, 3.0: 4, 616.0: 92}),\n",
       " Counter({3.0: 1, 9.0: 4, 616.0: 95}),\n",
       " Counter({9.0: 8, 3.0: 3, 6.0: 2, 616.0: 87}),\n",
       " Counter({9.0: 3, 3.0: 2, 616.0: 95}),\n",
       " Counter({3.0: 5, 6.0: 13, 9.0: 5, 616.0: 77}),\n",
       " Counter({6.0: 6, 3.0: 2, 9.0: 5, 616.0: 87}),\n",
       " Counter({6.0: 9, 9.0: 4, 3.0: 7, 1.0: 1, 616.0: 79}),\n",
       " Counter({6.0: 5, 9.0: 5, 3.0: 8, 616.0: 82}),\n",
       " Counter({9.0: 12, 3.0: 6, 6.0: 1, 616.0: 81}),\n",
       " Counter({3.0: 3, 9.0: 9, 6.0: 3, 616.0: 85}),\n",
       " Counter({9.0: 15, 6.0: 4, 3.0: 4, 616.0: 77}),\n",
       " Counter({9.0: 7, 3.0: 4, 616.0: 89}),\n",
       " Counter({3.0: 3, 9.0: 10, 6.0: 4, 616.0: 83}),\n",
       " Counter({3.0: 3, 9.0: 9, 6.0: 1, 616.0: 87}),\n",
       " Counter({9.0: 6, 3.0: 5, 6.0: 4, 616.0: 85}),\n",
       " Counter({9.0: 6, 3.0: 6, 6.0: 4, 616.0: 84}),\n",
       " Counter({9.0: 8, 3.0: 2, 616.0: 90}),\n",
       " Counter({9.0: 15, 3.0: 6, 6.0: 4, 616.0: 75}),\n",
       " Counter({6.0: 7, 9.0: 6, 3.0: 2, 616.0: 85}),\n",
       " Counter({9.0: 18, 3.0: 2, 616.0: 80}),\n",
       " Counter({9.0: 7, 3.0: 4, 616.0: 89}),\n",
       " Counter({3.0: 7, 9.0: 4, 6.0: 7, 616.0: 82}),\n",
       " Counter({6.0: 9, 9.0: 3, 3.0: 6, 1.0: 1, 616.0: 81}),\n",
       " Counter({3.0: 5, 9.0: 5, 616.0: 90}),\n",
       " Counter({3.0: 4, 9.0: 8, 616.0: 88}),\n",
       " Counter({6.0: 11, 9.0: 4, 3.0: 1, 616.0: 84}),\n",
       " Counter({9.0: 15, 6.0: 2, 3.0: 7, 616.0: 76}),\n",
       " Counter({9.0: 5, 3.0: 3, 1.0: 1, 6.0: 4, 8.0: 1, 616.0: 86}),\n",
       " Counter({9.0: 7, 3.0: 3, 6.0: 1, 616.0: 89}),\n",
       " Counter({6.0: 4, 9.0: 14, 3.0: 6, 616.0: 76}),\n",
       " Counter({9.0: 16, 3.0: 2, 616.0: 82}),\n",
       " Counter({6.0: 1, 616.0: 99}),\n",
       " Counter({6.0: 11, 9.0: 5, 1.0: 1, 616.0: 83}),\n",
       " Counter({9.0: 13, 6.0: 3, 3.0: 6, 616.0: 78}),\n",
       " Counter({9.0: 15, 3.0: 2, 616.0: 83}),\n",
       " Counter({9.0: 19, 3.0: 1, 616.0: 80}),\n",
       " Counter({9.0: 5, 3.0: 3, 1.0: 2, 8.0: 1, 6.0: 3, 616.0: 86}),\n",
       " Counter({3.0: 5, 6.0: 12, 9.0: 4, 1.0: 1, 616.0: 78}),\n",
       " Counter({9.0: 18, 3.0: 1, 616.0: 81}),\n",
       " Counter({9.0: 4, 3.0: 3, 616.0: 93}),\n",
       " Counter({9.0: 7, 3.0: 6, 6.0: 4, 616.0: 83}),\n",
       " Counter({6.0: 8, 9.0: 4, 3.0: 1, 616.0: 87}),\n",
       " Counter({6.0: 4, 3.0: 3, 9.0: 5, 616.0: 88}),\n",
       " Counter({9.0: 14, 3.0: 5, 6.0: 4, 616.0: 77}),\n",
       " Counter({6.0: 7, 1.0: 1, 9.0: 6, 3.0: 1, 616.0: 85}),\n",
       " Counter({6.0: 5, 3.0: 2, 9.0: 4, 616.0: 89}),\n",
       " Counter({9.0: 14, 3.0: 3, 6.0: 1, 616.0: 82}),\n",
       " Counter({3.0: 8, 9.0: 4, 616.0: 88}),\n",
       " Counter({3.0: 4, 9.0: 10, 6.0: 2, 616.0: 84}),\n",
       " Counter({9.0: 12, 6.0: 5, 3.0: 1, 616.0: 82}),\n",
       " Counter({9.0: 9, 6.0: 4, 3.0: 5, 616.0: 82}),\n",
       " Counter({3.0: 3, 9.0: 11, 6.0: 4, 616.0: 82}),\n",
       " Counter({3.0: 4, 1.0: 2, 9.0: 3, 8.0: 1, 6.0: 4, 616.0: 86}),\n",
       " Counter({9.0: 12, 6.0: 3, 3.0: 6, 616.0: 79}),\n",
       " Counter({6.0: 12, 9.0: 6, 1.0: 1, 616.0: 81}),\n",
       " Counter({3.0: 8, 9.0: 4, 616.0: 88}),\n",
       " Counter({3.0: 4, 9.0: 2, 6.0: 4, 1.0: 2, 8.0: 1, 616.0: 87}),\n",
       " Counter({9.0: 5, 6.0: 7, 3.0: 6, 616.0: 82}),\n",
       " Counter({9.0: 11, 6.0: 7, 616.0: 82}),\n",
       " Counter({6.0: 3, 3.0: 4, 9.0: 4, 616.0: 89}),\n",
       " Counter({9.0: 19, 6.0: 1, 616.0: 80}),\n",
       " Counter({6.0: 6, 1.0: 2, 9.0: 4, 3.0: 3, 8.0: 1, 616.0: 84}),\n",
       " Counter({3.0: 5, 9.0: 6, 616.0: 89}),\n",
       " Counter({9.0: 6, 3.0: 4, 616.0: 90}),\n",
       " Counter({6.0: 7, 9.0: 5, 616.0: 88}),\n",
       " Counter({9.0: 15, 6.0: 2, 616.0: 83}),\n",
       " Counter({9.0: 12, 6.0: 4, 3.0: 2, 616.0: 82}),\n",
       " Counter({9.0: 10, 3.0: 2, 616.0: 88}),\n",
       " Counter({9.0: 4, 3.0: 4, 6.0: 1, 616.0: 91}),\n",
       " Counter({9.0: 5, 3.0: 1, 6.0: 4, 616.0: 90}),\n",
       " Counter({9.0: 11, 6.0: 4, 3.0: 5, 616.0: 80}),\n",
       " Counter({9.0: 13, 6.0: 2, 3.0: 3, 616.0: 82}),\n",
       " Counter({9.0: 15, 3.0: 5, 6.0: 3, 616.0: 77}),\n",
       " Counter({9.0: 7, 3.0: 2, 616.0: 91}),\n",
       " Counter({9.0: 8, 3.0: 2, 6.0: 2, 616.0: 88}),\n",
       " Counter({3.0: 5, 9.0: 6, 6.0: 5, 616.0: 84}),\n",
       " Counter({3.0: 1, 9.0: 3, 616.0: 96}),\n",
       " Counter({6.0: 4, 9.0: 11, 3.0: 2, 616.0: 83}),\n",
       " Counter({6.0: 10, 9.0: 7, 1.0: 1, 3.0: 1, 616.0: 81}),\n",
       " Counter({9.0: 10, 6.0: 5, 3.0: 1, 616.0: 84}),\n",
       " Counter({9.0: 5, 3.0: 5, 6.0: 4, 616.0: 86}),\n",
       " Counter({3.0: 6, 9.0: 13, 616.0: 81}),\n",
       " Counter({9.0: 4, 6.0: 14, 616.0: 82}),\n",
       " Counter({9.0: 16, 3.0: 2, 6.0: 1, 616.0: 81}),\n",
       " Counter({6.0: 5, 9.0: 5, 3.0: 2, 1.0: 1, 616.0: 87}),\n",
       " Counter({9.0: 18, 6.0: 2, 3.0: 1, 616.0: 79}),\n",
       " Counter({9.0: 5, 6.0: 7, 3.0: 6, 616.0: 82}),\n",
       " Counter({9.0: 3, 6.0: 8, 3.0: 1, 616.0: 88}),\n",
       " Counter({9.0: 9, 6.0: 6, 3.0: 4, 616.0: 81}),\n",
       " Counter({9.0: 11, 3.0: 4, 6.0: 4, 616.0: 81}),\n",
       " Counter({3.0: 5, 9.0: 4, 6.0: 1, 616.0: 90}),\n",
       " Counter({3.0: 10, 9.0: 3, 616.0: 87}),\n",
       " Counter({3.0: 8, 9.0: 4, 616.0: 88}),\n",
       " Counter({6.0: 10, 3.0: 3, 9.0: 4, 1.0: 2, 616.0: 81}),\n",
       " Counter({9.0: 3, 8.0: 1, 6.0: 4, 3.0: 4, 1.0: 2, 616.0: 86}),\n",
       " Counter({9.0: 9, 6.0: 5, 616.0: 86}),\n",
       " Counter({6.0: 13, 9.0: 3, 616.0: 84}),\n",
       " Counter({9.0: 5, 6.0: 5, 1.0: 3, 3.0: 3, 8.0: 1, 616.0: 83}),\n",
       " Counter({6.0: 8, 9.0: 3, 3.0: 4, 1.0: 2, 616.0: 83}),\n",
       " Counter({3.0: 2, 9.0: 1, 616.0: 97}),\n",
       " Counter({9.0: 3, 6.0: 5, 3.0: 2, 616.0: 90}),\n",
       " Counter({9.0: 12, 3.0: 3, 6.0: 3, 616.0: 82}),\n",
       " Counter({6.0: 9, 1.0: 2, 3.0: 3, 9.0: 1, 616.0: 85}),\n",
       " Counter({9.0: 11, 3.0: 6, 616.0: 83}),\n",
       " Counter({9.0: 7, 6.0: 4, 3.0: 2, 616.0: 87}),\n",
       " Counter({6.0: 15, 9.0: 6, 1.0: 1, 616.0: 78}),\n",
       " Counter({9.0: 17, 6.0: 3, 3.0: 1, 616.0: 79}),\n",
       " Counter({1.0: 2, 9.0: 3, 3.0: 4, 6.0: 6, 616.0: 85}),\n",
       " Counter({9.0: 15, 3.0: 3, 6.0: 2, 616.0: 80}),\n",
       " Counter({9.0: 10, 6.0: 8, 616.0: 82}),\n",
       " Counter({9.0: 6, 3.0: 2, 616.0: 92}),\n",
       " Counter({9.0: 3, 6.0: 10, 3.0: 1, 1.0: 2, 8.0: 1, 616.0: 83}),\n",
       " Counter({9.0: 13, 3.0: 2, 6.0: 2, 616.0: 83}),\n",
       " Counter({3.0: 3, 6.0: 9, 1.0: 2, 9.0: 3, 616.0: 83}),\n",
       " Counter({6.0: 12, 9.0: 6, 1.0: 1, 3.0: 1, 616.0: 80}),\n",
       " Counter({3.0: 8, 9.0: 4, 616.0: 88}),\n",
       " Counter({3.0: 6, 9.0: 2, 616.0: 92}),\n",
       " Counter({9.0: 17, 6.0: 3, 3.0: 1, 616.0: 79}),\n",
       " Counter({6.0: 14, 9.0: 5, 616.0: 81}),\n",
       " Counter({6.0: 4, 9.0: 9, 3.0: 3, 616.0: 84}),\n",
       " Counter({9.0: 13, 6.0: 3, 616.0: 84}),\n",
       " Counter({9.0: 4, 3.0: 2, 6.0: 1, 616.0: 93}),\n",
       " Counter({3.0: 11, 9.0: 2, 616.0: 87}),\n",
       " Counter({9.0: 5, 6.0: 7, 3.0: 4, 1.0: 2, 616.0: 82}),\n",
       " Counter({9.0: 13, 3.0: 3, 6.0: 2, 616.0: 82}),\n",
       " Counter({9.0: 8, 6.0: 5, 3.0: 1, 616.0: 86}),\n",
       " Counter({9.0: 6, 6.0: 5, 3.0: 1, 616.0: 88}),\n",
       " Counter({3.0: 1, 6.0: 1, 616.0: 98}),\n",
       " Counter({6.0: 9, 3.0: 3, 1.0: 2, 9.0: 4, 616.0: 82}),\n",
       " Counter({6.0: 9, 3.0: 2, 1.0: 2, 8.0: 1, 616.0: 86}),\n",
       " Counter({6.0: 5, 1.0: 3, 9.0: 7, 5.0: 2, 3.0: 1, 8.0: 1, 616.0: 81}),\n",
       " Counter({9.0: 8, 3.0: 1, 6.0: 2, 616.0: 89}),\n",
       " Counter({3.0: 2, 9.0: 6, 6.0: 5, 616.0: 87}),\n",
       " Counter({9.0: 3, 3.0: 3, 6.0: 3, 616.0: 91}),\n",
       " Counter({3.0: 4, 616.0: 96}),\n",
       " Counter({9.0: 11, 6.0: 4, 616.0: 85}),\n",
       " Counter({6.0: 9, 9.0: 3, 616.0: 88}),\n",
       " Counter({6.0: 5, 9.0: 3, 3.0: 1, 616.0: 91}),\n",
       " Counter({1.0: 2, 9.0: 8, 6.0: 5, 5.0: 1, 616.0: 84}),\n",
       " Counter({9.0: 10, 6.0: 5, 1.0: 1, 3.0: 2, 616.0: 82}),\n",
       " Counter({9.0: 16, 3.0: 3, 6.0: 2, 616.0: 79}),\n",
       " Counter({6.0: 7, 9.0: 3, 616.0: 90}),\n",
       " Counter({6.0: 5, 9.0: 2, 3.0: 1, 616.0: 92}),\n",
       " Counter({9.0: 5, 3.0: 4, 6.0: 1, 616.0: 90}),\n",
       " Counter({6.0: 4, 9.0: 7, 616.0: 89}),\n",
       " Counter({1.0: 1, 6.0: 13, 3.0: 2, 9.0: 2, 616.0: 82}),\n",
       " Counter({9.0: 8, 6.0: 6, 3.0: 2, 616.0: 84}),\n",
       " Counter({6.0: 13, 9.0: 4, 616.0: 83}),\n",
       " Counter({6.0: 7, 9.0: 9, 3.0: 1, 616.0: 83}),\n",
       " Counter({9.0: 5, 6.0: 5, 3.0: 1, 616.0: 89}),\n",
       " Counter({3.0: 4, 6.0: 3, 9.0: 1, 616.0: 92}),\n",
       " Counter({9.0: 3, 6.0: 5, 3.0: 2, 616.0: 90}),\n",
       " Counter({9.0: 6, 3.0: 6, 6.0: 1, 616.0: 87}),\n",
       " Counter({6.0: 13, 9.0: 2, 616.0: 85}),\n",
       " Counter({6.0: 5, 9.0: 6, 1.0: 5, 5.0: 2, 8.0: 1, 3.0: 2, 616.0: 79}),\n",
       " Counter({6.0: 4, 9.0: 8, 3.0: 1, 616.0: 87}),\n",
       " Counter({9.0: 1, 6.0: 10, 1.0: 1, 8.0: 1, 616.0: 87}),\n",
       " Counter({3.0: 8, 9.0: 5, 6.0: 1, 616.0: 86}),\n",
       " Counter({3.0: 7, 9.0: 6, 6.0: 1, 616.0: 86}),\n",
       " Counter({6.0: 4, 3.0: 2, 9.0: 4, 616.0: 90}),\n",
       " Counter({6.0: 9, 9.0: 4, 3.0: 1, 616.0: 86}),\n",
       " Counter({9.0: 7, 6.0: 2, 3.0: 1, 616.0: 90}),\n",
       " Counter({1.0: 2, 6.0: 11, 3.0: 2, 9.0: 4, 616.0: 81}),\n",
       " Counter({3.0: 3, 8.0: 1, 9.0: 3, 6.0: 11, 1.0: 1, 616.0: 81}),\n",
       " Counter({9.0: 6, 6.0: 7, 616.0: 87}),\n",
       " Counter({9.0: 7, 3.0: 5, 6.0: 2, 616.0: 86}),\n",
       " Counter({6.0: 6, 9.0: 2, 616.0: 92}),\n",
       " Counter({6.0: 7, 9.0: 4, 1.0: 1, 3.0: 1, 616.0: 87}),\n",
       " Counter({9.0: 7, 1.0: 3, 6.0: 8, 5.0: 2, 616.0: 80}),\n",
       " Counter({6.0: 13, 1.0: 1, 3.0: 1, 9.0: 3, 2.0: 1, 616.0: 81}),\n",
       " Counter({6.0: 5, 9.0: 7, 616.0: 88}),\n",
       " Counter({9.0: 9, 6.0: 1, 3.0: 2, 616.0: 88}),\n",
       " Counter({3.0: 10, 9.0: 2, 6.0: 1, 616.0: 87}),\n",
       " Counter({3.0: 7, 9.0: 5, 6.0: 1, 616.0: 87}),\n",
       " Counter({6.0: 3, 9.0: 14, 3.0: 2, 616.0: 81}),\n",
       " Counter({3.0: 7, 9.0: 8, 6.0: 1, 616.0: 84}),\n",
       " Counter({3.0: 5, 9.0: 4, 6.0: 1, 616.0: 90}),\n",
       " Counter({9.0: 9, 6.0: 4, 616.0: 87}),\n",
       " Counter({6.0: 6, 9.0: 5, 616.0: 89}),\n",
       " Counter({9.0: 6, 6.0: 5, 616.0: 89}),\n",
       " Counter({6.0: 10, 9.0: 3, 616.0: 87}),\n",
       " Counter({6.0: 3, 9.0: 7, 3.0: 1, 616.0: 89}),\n",
       " Counter({3.0: 8, 6.0: 1, 9.0: 3, 616.0: 88}),\n",
       " Counter({6.0: 14, 3.0: 1, 9.0: 3, 616.0: 82}),\n",
       " Counter({6.0: 4, 9.0: 8, 3.0: 2, 616.0: 86}),\n",
       " Counter({1.0: 4, 9.0: 6, 5.0: 2, 6.0: 9, 616.0: 79}),\n",
       " Counter({6.0: 11, 9.0: 4, 1.0: 1, 616.0: 84}),\n",
       " Counter({6.0: 16, 9.0: 2, 616.0: 82}),\n",
       " Counter({9.0: 8, 6.0: 8, 1.0: 1, 616.0: 83}),\n",
       " Counter({3.0: 5, 6.0: 5, 9.0: 2, 616.0: 88}),\n",
       " Counter({6.0: 4, 9.0: 12, 3.0: 2, 616.0: 82}),\n",
       " Counter({6.0: 17, 3.0: 1, 9.0: 2, 1.0: 1, 616.0: 79}),\n",
       " Counter({6.0: 9, 9.0: 5, 616.0: 86}),\n",
       " Counter({6.0: 11, 1.0: 4, 9.0: 2, 2.0: 1, 3.0: 1, 0.0: 1, 616.0: 80}),\n",
       " Counter({6.0: 15, 9.0: 3, 616.0: 82}),\n",
       " Counter({3.0: 5, 9.0: 5, 616.0: 90}),\n",
       " Counter({9.0: 7, 3.0: 7, 6.0: 2, 616.0: 84}),\n",
       " Counter({9.0: 8, 3.0: 5, 6.0: 2, 616.0: 85}),\n",
       " Counter({6.0: 5, 9.0: 3, 616.0: 92}),\n",
       " Counter({9.0: 7, 6.0: 6, 1.0: 5, 5.0: 1, 616.0: 81}),\n",
       " Counter({9.0: 9, 6.0: 3, 3.0: 1, 616.0: 87}),\n",
       " Counter({6.0: 10, 9.0: 5, 1.0: 1, 616.0: 84}),\n",
       " Counter({6.0: 14, 9.0: 2, 1.0: 4, 2.0: 1, 0.0: 1, 616.0: 78}),\n",
       " Counter({6.0: 6, 9.0: 3, 616.0: 91}),\n",
       " Counter({5.0: 2, 9.0: 4, 1.0: 4, 6.0: 9, 3.0: 1, 616.0: 80}),\n",
       " Counter({9.0: 6, 6.0: 5, 616.0: 89}),\n",
       " Counter({6.0: 13, 9.0: 3, 616.0: 84}),\n",
       " Counter({3.0: 5, 9.0: 1, 616.0: 94}),\n",
       " Counter({3.0: 7, 9.0: 5, 6.0: 2, 616.0: 86}),\n",
       " Counter({3.0: 8, 9.0: 2, 616.0: 90}),\n",
       " Counter({3.0: 1, 6.0: 8, 9.0: 3, 616.0: 88}),\n",
       " Counter({9.0: 6, 6.0: 6, 3.0: 1, 616.0: 87}),\n",
       " Counter({6.0: 9, 1.0: 7, 5.0: 2, 3.0: 2, 9.0: 3, 616.0: 77}),\n",
       " Counter({5.0: 2, 9.0: 6, 1.0: 6, 6.0: 10, 616.0: 76}),\n",
       " Counter({9.0: 7, 5.0: 2, 6.0: 8, 1.0: 7, 616.0: 76}),\n",
       " Counter({9.0: 3, 3.0: 3, 6.0: 9, 1.0: 6, 5.0: 2, 8.0: 1, 616.0: 76}),\n",
       " Counter({6.0: 4, 9.0: 3, 3.0: 1, 616.0: 92}),\n",
       " Counter({9.0: 2, 6.0: 13, 1.0: 1, 0.0: 1, 2.0: 2, 616.0: 81}),\n",
       " Counter({9.0: 8, 3.0: 6, 6.0: 3, 616.0: 83}),\n",
       " Counter({3.0: 2, 6.0: 4, 9.0: 12, 616.0: 82}),\n",
       " Counter({9.0: 5, 6.0: 9, 1.0: 3, 0.0: 2, 616.0: 81}),\n",
       " Counter({3.0: 2, 6.0: 2, 9.0: 2, 616.0: 94}),\n",
       " Counter({6.0: 5, 3.0: 2, 9.0: 1, 616.0: 92}),\n",
       " Counter({6.0: 13, 9.0: 4, 1.0: 1, 0.0: 1, 616.0: 81}),\n",
       " Counter({6.0: 12, 9.0: 3, 1.0: 2, 3.0: 1, 616.0: 82}),\n",
       " Counter({6.0: 5, 9.0: 4, 3.0: 1, 616.0: 90}),\n",
       " Counter({9.0: 3, 6.0: 3, 616.0: 94}),\n",
       " Counter({6.0: 4, 9.0: 3, 616.0: 93}),\n",
       " Counter({9.0: 4, 3.0: 4, 616.0: 92}),\n",
       " Counter({6.0: 11, 3.0: 3, 1.0: 1, 9.0: 2, 2.0: 2, 616.0: 81}),\n",
       " Counter({6.0: 9, 9.0: 3, 1.0: 2, 616.0: 86}),\n",
       " Counter({6.0: 9, 9.0: 4, 3.0: 2, 1.0: 2, 616.0: 83}),\n",
       " Counter({7.0: 1, 6.0: 1, 616.0: 98}),\n",
       " Counter({6.0: 3, 3.0: 1, 616.0: 96}),\n",
       " Counter({6.0: 15, 9.0: 3, 616.0: 82}),\n",
       " Counter({3.0: 1, 9.0: 7, 6.0: 4, 616.0: 88}),\n",
       " Counter({9.0: 5, 1.0: 7, 5.0: 1, 6.0: 9, 3.0: 1, 616.0: 77}),\n",
       " Counter({6.0: 12, 9.0: 4, 0.0: 1, 616.0: 83}),\n",
       " Counter({3.0: 6, 9.0: 7, 6.0: 1, 616.0: 86}),\n",
       " Counter({9.0: 6, 3.0: 9, 6.0: 1, 616.0: 84}),\n",
       " Counter({6.0: 10, 9.0: 5, 1.0: 2, 3.0: 2, 616.0: 81}),\n",
       " Counter({6.0: 10, 9.0: 4, 1.0: 1, 0.0: 2, 616.0: 83}),\n",
       " Counter({6.0: 9, 9.0: 2, 616.0: 89}),\n",
       " Counter({6.0: 5, 9.0: 3, 3.0: 1, 616.0: 91}),\n",
       " Counter({6.0: 15, 9.0: 2, 616.0: 83}),\n",
       " Counter({6.0: 1, 9.0: 2, 616.0: 97}),\n",
       " Counter({9.0: 5, 6.0: 2, 3.0: 10, 616.0: 83}),\n",
       " Counter({3.0: 6, 9.0: 8, 616.0: 86}),\n",
       " Counter({6.0: 6, 9.0: 7, 3.0: 1, 616.0: 86}),\n",
       " Counter({6.0: 10, 9.0: 7, 1.0: 1, 616.0: 82}),\n",
       " Counter({9.0: 9, 6.0: 5, 3.0: 2, 616.0: 84}),\n",
       " Counter({6.0: 15, 9.0: 1, 2.0: 3, 1.0: 4, 0.0: 1, 616.0: 76}),\n",
       " Counter({6.0: 6, 616.0: 94}),\n",
       " Counter({9.0: 4, 6.0: 3, 3.0: 1, 616.0: 92}),\n",
       " Counter({6.0: 13, 9.0: 4, 3.0: 1, 2.0: 3, 1.0: 1, 616.0: 78}),\n",
       " Counter({6.0: 9, 9.0: 6, 1.0: 6, 0.0: 2, 5.0: 2, 616.0: 75}),\n",
       " Counter({9.0: 1, 6.0: 15, 1.0: 1, 0.0: 1, 2.0: 3, 616.0: 79}),\n",
       " Counter({6.0: 13, 2.0: 3, 9.0: 2, 0.0: 1, 1.0: 4, 616.0: 77}),\n",
       " Counter({6.0: 5, 3.0: 2, 9.0: 8, 616.0: 85}),\n",
       " Counter({6.0: 11, 1.0: 7, 9.0: 1, 3.0: 2, 5.0: 2, 616.0: 77}),\n",
       " Counter({6.0: 10, 9.0: 1, 1.0: 3, 616.0: 86}),\n",
       " Counter({6.0: 15, 1.0: 4, 2.0: 1, 9.0: 1, 0.0: 1, 616.0: 78}),\n",
       " Counter({9.0: 2, 2.0: 3, 6.0: 13, 1.0: 4, 0.0: 1, 616.0: 77}),\n",
       " Counter({3.0: 4, 9.0: 4, 6.0: 2, 616.0: 90}),\n",
       " Counter({5.0: 1, 6.0: 9, 1.0: 11, 9.0: 4, 3.0: 2, 616.0: 73}),\n",
       " Counter({6.0: 6, 3.0: 1, 9.0: 2, 616.0: 91}),\n",
       " Counter({3.0: 3, 6.0: 9, 1.0: 7, 9.0: 1, 5.0: 1, 616.0: 79}),\n",
       " Counter({9.0: 4, 3.0: 5, 6.0: 5, 616.0: 86}),\n",
       " Counter({6.0: 12, 0.0: 1, 9.0: 1, 616.0: 86}),\n",
       " Counter({6.0: 14, 1.0: 4, 2.0: 2, 9.0: 2, 0.0: 1, 616.0: 77}),\n",
       " Counter({9.0: 5, 6.0: 10, 1.0: 3, 3.0: 2, 2.0: 1, 616.0: 79}),\n",
       " Counter({9.0: 5, 3.0: 8, 6.0: 1, 616.0: 86}),\n",
       " Counter({9.0: 6, 6.0: 14, 1.0: 2, 2.0: 1, 616.0: 77}),\n",
       " Counter({6.0: 10, 0.0: 2, 9.0: 4, 1.0: 1, 616.0: 83}),\n",
       " Counter({9.0: 5, 3.0: 4, 6.0: 2, 616.0: 89}),\n",
       " Counter({9.0: 5, 6.0: 7, 3.0: 2, 616.0: 86}),\n",
       " Counter({6.0: 9, 2.0: 3, 3.0: 4, 1.0: 2, 9.0: 2, 616.0: 80}),\n",
       " Counter({6.0: 9, 9.0: 3, 1.0: 1, 616.0: 87}),\n",
       " Counter({9.0: 3, 3.0: 2, 6.0: 5, 616.0: 90}),\n",
       " Counter({6.0: 14, 9.0: 6, 1.0: 3, 2.0: 1, 616.0: 76}),\n",
       " Counter({6.0: 12, 0.0: 1, 9.0: 1, 616.0: 86}),\n",
       " Counter({3.0: 5, 9.0: 7, 6.0: 2, 1.0: 1, 616.0: 85}),\n",
       " Counter({9.0: 3, 6.0: 14, 2.0: 1, 1.0: 1, 616.0: 81}),\n",
       " Counter({6.0: 9, 9.0: 8, 616.0: 83}),\n",
       " Counter({9.0: 1, 3.0: 2, 616.0: 97}),\n",
       " Counter({1.0: 3, 9.0: 5, 6.0: 14, 2.0: 1, 3.0: 2, 616.0: 75}),\n",
       " Counter({1.0: 5, 6.0: 10, 9.0: 7, 0.0: 2, 616.0: 76}),\n",
       " Counter({6.0: 9, 9.0: 1, 3.0: 1, 2.0: 2, 616.0: 87}),\n",
       " Counter({6.0: 11, 9.0: 3, 1.0: 2, 2.0: 1, 616.0: 83}),\n",
       " Counter({3.0: 3, 9.0: 6, 6.0: 1, 616.0: 90}),\n",
       " Counter({9.0: 7, 3.0: 5, 616.0: 88}),\n",
       " Counter({3.0: 5, 9.0: 5, 6.0: 2, 616.0: 88}),\n",
       " Counter({6.0: 9, 3.0: 3, 1.0: 5, 2.0: 3, 9.0: 1, 616.0: 79}),\n",
       " Counter({6.0: 15, 0.0: 1, 1.0: 5, 9.0: 2, 2.0: 2, 616.0: 75}),\n",
       " Counter({9.0: 3, 6.0: 4, 3.0: 1, 616.0: 92}),\n",
       " Counter({9.0: 2, 6.0: 9, 3.0: 1, 616.0: 88}),\n",
       " Counter({6.0: 8, 1.0: 9, 9.0: 6, 5.0: 2, 0.0: 2, 616.0: 73}),\n",
       " Counter({9.0: 6, 6.0: 6, 616.0: 88}),\n",
       " Counter({1.0: 6, 3.0: 3, 6.0: 10, 9.0: 1, 5.0: 2, 616.0: 78}),\n",
       " Counter({9.0: 4, 6.0: 8, 1.0: 1, 616.0: 87}),\n",
       " Counter({6.0: 9, 1.0: 1, 616.0: 90}),\n",
       " Counter({9.0: 8, 6.0: 3, 3.0: 8, 616.0: 81}),\n",
       " Counter({6.0: 13, 0.0: 2, 9.0: 1, 1.0: 1, 616.0: 83}),\n",
       " Counter({6.0: 3, 9.0: 3, 3.0: 4, 616.0: 90}),\n",
       " Counter({6.0: 6, 9.0: 7, 3.0: 3, 1.0: 1, 616.0: 83}),\n",
       " Counter({1.0: 3, 9.0: 3, 0.0: 1, 6.0: 13, 2.0: 3, 616.0: 77}),\n",
       " Counter({6.0: 9, 1.0: 2, 9.0: 1, 2.0: 2, 616.0: 86}),\n",
       " Counter({9.0: 5, 6.0: 11, 1.0: 1, 616.0: 83}),\n",
       " Counter({0.0: 1, 6.0: 16, 9.0: 3, 2.0: 3, 1.0: 3, 616.0: 74}),\n",
       " Counter({6.0: 8, 1.0: 12, 5.0: 2, 9.0: 4, 0.0: 1, 3.0: 2, 616.0: 71}),\n",
       " Counter({1.0: 8, 6.0: 8, 3.0: 3, 5.0: 2, 9.0: 3, 616.0: 76}),\n",
       " Counter({4.0: 1, 6.0: 8, 616.0: 91}),\n",
       " Counter({3.0: 5, 9.0: 8, 1.0: 1, 6.0: 3, 616.0: 83}),\n",
       " Counter({6.0: 8, 2.0: 3, 3.0: 3, 9.0: 2, 1.0: 4, 616.0: 80}),\n",
       " Counter({6.0: 7, 616.0: 93}),\n",
       " Counter({9.0: 2, 3.0: 1, 6.0: 9, 616.0: 88}),\n",
       " Counter({6.0: 14, 0.0: 1, 616.0: 85}),\n",
       " Counter({6.0: 4, 3.0: 1, 1.0: 1, 9.0: 1, 616.0: 93}),\n",
       " Counter({2.0: 3, 6.0: 12, 9.0: 3, 1.0: 3, 3.0: 1, 616.0: 78}),\n",
       " Counter({3.0: 4, 6.0: 5, 9.0: 6, 616.0: 85}),\n",
       " Counter({6.0: 10, 0.0: 2, 1.0: 5, 9.0: 6, 616.0: 77}),\n",
       " Counter({9.0: 6, 1.0: 2, 6.0: 12, 2.0: 1, 3.0: 1, 616.0: 78}),\n",
       " Counter({3.0: 1, 9.0: 8, 616.0: 91}),\n",
       " Counter({6.0: 14, 9.0: 6, 1.0: 3, 2.0: 1, 616.0: 76}),\n",
       " Counter({6.0: 12, 9.0: 2, 1.0: 2, 616.0: 84}),\n",
       " Counter({6.0: 9, 616.0: 91}),\n",
       " Counter({6.0: 15, 9.0: 2, 2.0: 3, 1.0: 2, 616.0: 78}),\n",
       " Counter({9.0: 2, 6.0: 12, 3.0: 1, 1.0: 1, 616.0: 84}),\n",
       " Counter({6.0: 13, 9.0: 3, 1.0: 2, 2.0: 1, 616.0: 81}),\n",
       " Counter({6.0: 10, 2.0: 3, 3.0: 1, 9.0: 3, 616.0: 83}),\n",
       " Counter({9.0: 4, 3.0: 3, 616.0: 93}),\n",
       " Counter({6.0: 13, 9.0: 5, 616.0: 82}),\n",
       " Counter({1.0: 5, 6.0: 16, 2.0: 3, 9.0: 2, 616.0: 74}),\n",
       " Counter({3.0: 2, 9.0: 3, 7.0: 1, 616.0: 94}),\n",
       " Counter({6.0: 9, 9.0: 3, 1.0: 3, 2.0: 2, 0.0: 1, 616.0: 82}),\n",
       " Counter({9.0: 4, 3.0: 5, 6.0: 4, 616.0: 87}),\n",
       " Counter({9.0: 8, 3.0: 4, 6.0: 3, 616.0: 85}),\n",
       " Counter({6.0: 7, 9.0: 5, 1.0: 3, 2.0: 1, 616.0: 84}),\n",
       " Counter({6.0: 5, 3.0: 4, 9.0: 6, 616.0: 85}),\n",
       " Counter({6.0: 7, 3.0: 2, 9.0: 4, 0.0: 1, 616.0: 86}),\n",
       " Counter({3.0: 3, 9.0: 11, 616.0: 86}),\n",
       " Counter({6.0: 8, 616.0: 92}),\n",
       " Counter({6.0: 9, 3.0: 1, 9.0: 1, 0.0: 1, 616.0: 88}),\n",
       " Counter({1.0: 7, 0.0: 2, 6.0: 8, 9.0: 6, 5.0: 2, 616.0: 75}),\n",
       " Counter({6.0: 6, 9.0: 2, 3.0: 1, 1.0: 1, 616.0: 90}),\n",
       " Counter({6.0: 14, 1.0: 3, 9.0: 8, 2.0: 1, 616.0: 74}),\n",
       " Counter({9.0: 6, 6.0: 4, 1.0: 1, 3.0: 4, 616.0: 85}),\n",
       " Counter({9.0: 7, 1.0: 4, 6.0: 13, 2.0: 1, 616.0: 75}),\n",
       " Counter({3.0: 4, 9.0: 6, 6.0: 6, 616.0: 84}),\n",
       " Counter({1.0: 11, 6.0: 8, 3.0: 3, 5.0: 2, 9.0: 2, 616.0: 74}),\n",
       " Counter({6.0: 18, 2.0: 3, 1.0: 7, 0.0: 1, 9.0: 1, 616.0: 70}),\n",
       " Counter({9.0: 7, 3.0: 9, 616.0: 84}),\n",
       " Counter({9.0: 5, 3.0: 1, 1.0: 3, 2.0: 1, 6.0: 5, 616.0: 85}),\n",
       " Counter({6.0: 4, 9.0: 4, 3.0: 4, 616.0: 88}),\n",
       " Counter({1.0: 10, 6.0: 8, 0.0: 2, 9.0: 5, 5.0: 2, 616.0: 73}),\n",
       " Counter({6.0: 6, 1.0: 12, 5.0: 2, 3.0: 2, 9.0: 4, 0.0: 1, 616.0: 73}),\n",
       " Counter({6.0: 16, 0.0: 1, 2.0: 3, 1.0: 4, 9.0: 2, 616.0: 74}),\n",
       " Counter({6.0: 6, 3.0: 1, 9.0: 1, 616.0: 92}),\n",
       " Counter({1.0: 3, 9.0: 6, 6.0: 11, 2.0: 1, 3.0: 1, 616.0: 78}),\n",
       " Counter({6.0: 4, 9.0: 4, 3.0: 5, 616.0: 87}),\n",
       " Counter({9.0: 6, 6.0: 7, 1.0: 1, 616.0: 86}),\n",
       " Counter({9.0: 7, 6.0: 7, 1.0: 1, 616.0: 85}),\n",
       " Counter({3.0: 2, 1.0: 7, 6.0: 10, 5.0: 1, 9.0: 1, 2.0: 1, 616.0: 78}),\n",
       " Counter({3.0: 5, 9.0: 7, 6.0: 6, 616.0: 82}),\n",
       " Counter({9.0: 10, 3.0: 6, 6.0: 3, 616.0: 81}),\n",
       " Counter({9.0: 7, 6.0: 3, 3.0: 5, 616.0: 85}),\n",
       " Counter({9.0: 4, 6.0: 9, 2.0: 3, 3.0: 1, 616.0: 83}),\n",
       " Counter({6.0: 5, 9.0: 8, 3.0: 3, 616.0: 84}),\n",
       " Counter({9.0: 9, 3.0: 7, 616.0: 84}),\n",
       " Counter({3.0: 2, 6.0: 11, 1.0: 7, 2.0: 3, 616.0: 77}),\n",
       " Counter({6.0: 13, 9.0: 6, 5.0: 1, 1.0: 1, 616.0: 79}),\n",
       " Counter({6.0: 9, 1.0: 3, 2.0: 3, 8.0: 1, 9.0: 1, 616.0: 83}),\n",
       " Counter({9.0: 3, 0.0: 3, 6.0: 12, 1.0: 3, 616.0: 79}),\n",
       " Counter({6.0: 13, 1.0: 1, 3.0: 1, 616.0: 85}),\n",
       " Counter({3.0: 4, 9.0: 3, 616.0: 93}),\n",
       " Counter({9.0: 2, 6.0: 9, 3.0: 1, 1.0: 2, 0.0: 1, 616.0: 85}),\n",
       " Counter({0.0: 1, 1.0: 7, 6.0: 9, 9.0: 3, 616.0: 80}),\n",
       " Counter({9.0: 3, 6.0: 4, 3.0: 4, 616.0: 89}),\n",
       " Counter({9.0: 2, 6.0: 15, 1.0: 2, 3.0: 1, 616.0: 80}),\n",
       " Counter({6.0: 9, 2.0: 4, 9.0: 1, 1.0: 1, 8.0: 1, 616.0: 84}),\n",
       " Counter({3.0: 3, 616.0: 97}),\n",
       " Counter({9.0: 9, 6.0: 4, 3.0: 4, 616.0: 83}),\n",
       " Counter({3.0: 9, 9.0: 10, 616.0: 81}),\n",
       " Counter({6.0: 9, 9.0: 4, 5.0: 1, 1.0: 1, 3.0: 2, 616.0: 83}),\n",
       " Counter({3.0: 1, 9.0: 2, 7.0: 1, 6.0: 1, 616.0: 95}),\n",
       " Counter({6.0: 10, 9.0: 3, 1.0: 3, 2.0: 3, 616.0: 81}),\n",
       " Counter({1.0: 3, 6.0: 9, 2.0: 2, 9.0: 1, 616.0: 85}),\n",
       " Counter({6.0: 7, 9.0: 3, 0.0: 1, 3.0: 2, 1.0: 2, 616.0: 85}),\n",
       " Counter({6.0: 16, 9.0: 1, 0.0: 1, 616.0: 82}),\n",
       " Counter({9.0: 7, 6.0: 12, 1.0: 5, 2.0: 1, 616.0: 75}),\n",
       " Counter({6.0: 15, 1.0: 7, 2.0: 3, 0.0: 1, 9.0: 2, 616.0: 72}),\n",
       " Counter({9.0: 4, 3.0: 4, 1.0: 1, 6.0: 5, 616.0: 86}),\n",
       " Counter({6.0: 6, 9.0: 4, 3.0: 2, 616.0: 88}),\n",
       " Counter({6.0: 8, 9.0: 1, 616.0: 91}),\n",
       " Counter({0.0: 2, 9.0: 3, 1.0: 7, 6.0: 9, 616.0: 79}),\n",
       " Counter({1.0: 4, 2.0: 1, 6.0: 11, 9.0: 5, 3.0: 1, 616.0: 78}),\n",
       " Counter({2.0: 4, 6.0: 12, 9.0: 2, 1.0: 3, 616.0: 79}),\n",
       " Counter({9.0: 6, 3.0: 3, 6.0: 5, 616.0: 86}),\n",
       " Counter({3.0: 4, 6.0: 2, 9.0: 5, 616.0: 89}),\n",
       " Counter({9.0: 11, 6.0: 3, 3.0: 3, 616.0: 83}),\n",
       " Counter({9.0: 9, 3.0: 7, 616.0: 84}),\n",
       " Counter({2.0: 2, 0.0: 1, 6.0: 14, 1.0: 5, 9.0: 3, 616.0: 75}),\n",
       " Counter({2.0: 3, 9.0: 3, 6.0: 13, 1.0: 3, 3.0: 1, 616.0: 77}),\n",
       " Counter({9.0: 8, 6.0: 6, 3.0: 5, 616.0: 81}),\n",
       " Counter({3.0: 5, 9.0: 8, 6.0: 7, 616.0: 80}),\n",
       " Counter({1.0: 9, 6.0: 10, 0.0: 2, 9.0: 3, 5.0: 1, 616.0: 75}),\n",
       " Counter({6.0: 14, 1.0: 6, 2.0: 2, 8.0: 1, 616.0: 77}),\n",
       " Counter({9.0: 5, 3.0: 2, 616.0: 93}),\n",
       " Counter({2.0: 2, 6.0: 13, 1.0: 3, 9.0: 2, 3.0: 2, 616.0: 78}),\n",
       " Counter({6.0: 15, 0.0: 1, 9.0: 1, 1.0: 1, 616.0: 82}),\n",
       " Counter({6.0: 7, 9.0: 4, 3.0: 1, 616.0: 88}),\n",
       " Counter({9.0: 6, 3.0: 2, 6.0: 1, 616.0: 91}),\n",
       " Counter({3.0: 1, 6.0: 5, 9.0: 1, 1.0: 1, 616.0: 92}),\n",
       " Counter({6.0: 8, 9.0: 5, 2.0: 3, 616.0: 84}),\n",
       " Counter({3.0: 5, 6.0: 7, 9.0: 8, 616.0: 80}),\n",
       " Counter({6.0: 15, 1.0: 11, 2.0: 4, 0.0: 1, 616.0: 69}),\n",
       " Counter({1.0: 12, 6.0: 8, 0.0: 2, 9.0: 1, 5.0: 2, 616.0: 75}),\n",
       " Counter({9.0: 4, 1.0: 1, 3.0: 4, 6.0: 4, 616.0: 87}),\n",
       " Counter({6.0: 6, 1.0: 1, 9.0: 2, 3.0: 1, 616.0: 90}),\n",
       " Counter({3.0: 4, 616.0: 96}),\n",
       " Counter({9.0: 3, 6.0: 10, 0.0: 1, 616.0: 86}),\n",
       " Counter({3.0: 5, 9.0: 12, 6.0: 4, 616.0: 79}),\n",
       " Counter({9.0: 7, 6.0: 11, 2.0: 1, 1.0: 5, 616.0: 76}),\n",
       " Counter({2.0: 3, 3.0: 3, 1.0: 5, 6.0: 10, 9.0: 1, 616.0: 78}),\n",
       " Counter({6.0: 5, 9.0: 3, 1.0: 1, 3.0: 2, 616.0: 89}),\n",
       " Counter({6.0: 11, 4.0: 1, 616.0: 88}),\n",
       " Counter({6.0: 5, 9.0: 1, 616.0: 94}),\n",
       " Counter({6.0: 8, 2.0: 3, 9.0: 3, 1.0: 1, 616.0: 85}),\n",
       " Counter({9.0: 4, 3.0: 2, 6.0: 1, 616.0: 93}),\n",
       " Counter({9.0: 5, 6.0: 4, 1.0: 1, 3.0: 4, 616.0: 86}),\n",
       " Counter({1.0: 10, 6.0: 8, 3.0: 3, 5.0: 1, 2.0: 1, 616.0: 77}),\n",
       " Counter({1.0: 7, 6.0: 10, 3.0: 3, 5.0: 1, 2.0: 1, 616.0: 78}),\n",
       " Counter({6.0: 15, 0.0: 1, 1.0: 1, 616.0: 83}),\n",
       " Counter({9.0: 5, 3.0: 3, 6.0: 7, 5.0: 1, 616.0: 84}),\n",
       " Counter({6.0: 7, 9.0: 3, 1.0: 5, 2.0: 4, 616.0: 81}),\n",
       " Counter({6.0: 18, 2.0: 2, 1.0: 5, 0.0: 1, 9.0: 3, 616.0: 71}),\n",
       " Counter({6.0: 3, 9.0: 7, 3.0: 4, 616.0: 86}),\n",
       " Counter({6.0: 12, 9.0: 4, 1.0: 3, 5.0: 1, 616.0: 80}),\n",
       " Counter({6.0: 12, 9.0: 7, 1.0: 3, 2.0: 1, 616.0: 77}),\n",
       " Counter({6.0: 7, 9.0: 8, 2.0: 2, 616.0: 83}),\n",
       " Counter({6.0: 16, 1.0: 9, 2.0: 3, 8.0: 1, 616.0: 71}),\n",
       " Counter({2.0: 3, 6.0: 16, 1.0: 6, 0.0: 1, 9.0: 2, 616.0: 72}),\n",
       " Counter({6.0: 8, 9.0: 1, 616.0: 91}),\n",
       " Counter({6.0: 10, 3.0: 2, 1.0: 2, 9.0: 1, 0.0: 1, 616.0: 84}),\n",
       " Counter({1.0: 12, 6.0: 7, 3.0: 2, 2.0: 1, 5.0: 1, 616.0: 77}),\n",
       " Counter({9.0: 8, 1.0: 6, 6.0: 9, 3.0: 1, 8.0: 1, 616.0: 75}),\n",
       " Counter({9.0: 1, 6.0: 11, 2.0: 3, 1.0: 3, 0.0: 1, 616.0: 81}),\n",
       " Counter({6.0: 15, 9.0: 3, 1.0: 3, 616.0: 79}),\n",
       " Counter({0.0: 3, 6.0: 11, 9.0: 1, 1.0: 8, 616.0: 77}),\n",
       " Counter({9.0: 11, 3.0: 6, 616.0: 83}),\n",
       " Counter({3.0: 7, 9.0: 11, 1.0: 1, 616.0: 81}),\n",
       " Counter({2.0: 3, 1.0: 3, 9.0: 2, 6.0: 12, 3.0: 1, 616.0: 79}),\n",
       " Counter({9.0: 12, 3.0: 2, 616.0: 86}),\n",
       " Counter({6.0: 10, 9.0: 8, 1.0: 5, 2.0: 1, 616.0: 76}),\n",
       " Counter({6.0: 11, 3.0: 2, 616.0: 87}),\n",
       " Counter({3.0: 5, 9.0: 1, 616.0: 94}),\n",
       " Counter({6.0: 15, 9.0: 2, 1.0: 3, 5.0: 1, 616.0: 79}),\n",
       " Counter({1.0: 11, 6.0: 15, 2.0: 4, 0.0: 1, 616.0: 69}),\n",
       " Counter({6.0: 13, 1.0: 2, 3.0: 1, 0.0: 1, 616.0: 83}),\n",
       " Counter({9.0: 11, 3.0: 7, 616.0: 82}),\n",
       " Counter({6.0: 5, 9.0: 5, 0.0: 1, 3.0: 2, 1.0: 3, 616.0: 84}),\n",
       " Counter({6.0: 9, 5.0: 1, 3.0: 2, 9.0: 4, 1.0: 2, 0.0: 1, 616.0: 81}),\n",
       " Counter({2.0: 4, 1.0: 9, 6.0: 11, 8.0: 1, 616.0: 75}),\n",
       " Counter({3.0: 2, 9.0: 5, 6.0: 3, 616.0: 90}),\n",
       " Counter({9.0: 6, 6.0: 5, 1.0: 1, 3.0: 4, 616.0: 84}),\n",
       " Counter({9.0: 6, 616.0: 94}),\n",
       " Counter({9.0: 8, 6.0: 7, 3.0: 4, 1.0: 1, 616.0: 80}),\n",
       " Counter({1.0: 7, 6.0: 9, 3.0: 3, 2.0: 1, 9.0: 2, 616.0: 78}),\n",
       " Counter({1.0: 13, 6.0: 8, 2.0: 1, 0.0: 1, 9.0: 1, 616.0: 76}),\n",
       " Counter({6.0: 16, 0.0: 1, 1.0: 1, 9.0: 1, 616.0: 81}),\n",
       " Counter({9.0: 3, 6.0: 6, 3.0: 1, 616.0: 90}),\n",
       " Counter({4.0: 1, 6.0: 8, 9.0: 1, 616.0: 90}),\n",
       " Counter({6.0: 16, 9.0: 3, 1.0: 3, 616.0: 78}),\n",
       " Counter({6.0: 5, 4.0: 1, 9.0: 1, 616.0: 93}),\n",
       " Counter({6.0: 10, 1.0: 5, 0.0: 2, 9.0: 1, 616.0: 82}),\n",
       " Counter({3.0: 3, 6.0: 7, 9.0: 6, 1.0: 1, 616.0: 83}),\n",
       " Counter({9.0: 7, 6.0: 6, 1.0: 2, 2.0: 1, 616.0: 84}),\n",
       " Counter({9.0: 9, 6.0: 5, 3.0: 3, 616.0: 83}),\n",
       " Counter({1.0: 8, 2.0: 3, 6.0: 13, 8.0: 1, 616.0: 75}),\n",
       " Counter({6.0: 9, 9.0: 8, 2.0: 1, 1.0: 6, 616.0: 76}),\n",
       " Counter({1.0: 4, 6.0: 10, 9.0: 4, 2.0: 1, 616.0: 81}),\n",
       " Counter({6.0: 14, 1.0: 10, 2.0: 2, 8.0: 1, 616.0: 73}),\n",
       " Counter({6.0: 10, 4.0: 1, 9.0: 2, 616.0: 87}),\n",
       " Counter({2.0: 3, 6.0: 9, 1.0: 5, 8.0: 1, 9.0: 2, 616.0: 80}),\n",
       " Counter({1.0: 2, 6.0: 12, 9.0: 3, 3.0: 1, 8.0: 1, 616.0: 81}),\n",
       " Counter({6.0: 10, 2.0: 2, 9.0: 3, 1.0: 2, 8.0: 1, 616.0: 82}),\n",
       " Counter({2.0: 1, 9.0: 8, 6.0: 6, 1.0: 6, 8.0: 1, 3.0: 1, 616.0: 77}),\n",
       " Counter({4.0: 1, 6.0: 8, 9.0: 1, 616.0: 90}),\n",
       " Counter({2.0: 4, 6.0: 16, 1.0: 4, 0.0: 1, 9.0: 1, 616.0: 74}),\n",
       " Counter({6.0: 8, 9.0: 8, 1.0: 2, 8.0: 1, 616.0: 81}),\n",
       " Counter({9.0: 12, 6.0: 7, 3.0: 3, 616.0: 78}),\n",
       " Counter({6.0: 6, 9.0: 5, 3.0: 2, 1.0: 1, 8.0: 1, 616.0: 85}),\n",
       " Counter({6.0: 3, 9.0: 10, 3.0: 6, 616.0: 81}),\n",
       " Counter({6.0: 6, 9.0: 6, 3.0: 2, 1.0: 1, 616.0: 85}),\n",
       " Counter({9.0: 1, 1.0: 10, 6.0: 6, 0.0: 2, 616.0: 81}),\n",
       " Counter({6.0: 13, 1.0: 8, 2.0: 4, 0.0: 1, 616.0: 74}),\n",
       " Counter({1.0: 1, 6.0: 11, 3.0: 2, 2.0: 1, 616.0: 85}),\n",
       " Counter({6.0: 15, 9.0: 3, 1.0: 3, 616.0: 79}),\n",
       " Counter({6.0: 5, 9.0: 2, 616.0: 93}),\n",
       " Counter({6.0: 9, 1.0: 4, 9.0: 3, 2.0: 6, 0.0: 1, 616.0: 77}),\n",
       " Counter({1.0: 9, 6.0: 14, 2.0: 4, 0.0: 1, 9.0: 1, 616.0: 71}),\n",
       " Counter({3.0: 8, 9.0: 13, 1.0: 1, 616.0: 78}),\n",
       " Counter({9.0: 10, 3.0: 4, 6.0: 1, 616.0: 85}),\n",
       " Counter({9.0: 4, 3.0: 4, 6.0: 3, 616.0: 89}),\n",
       " Counter({1.0: 14, 6.0: 7, 9.0: 2, 0.0: 2, 2.0: 1, 616.0: 74}),\n",
       " Counter({9.0: 4, 6.0: 7, 3.0: 2, 8.0: 1, 616.0: 86}),\n",
       " Counter({2.0: 5, 1.0: 3, 6.0: 10, 9.0: 2, 0.0: 1, 616.0: 79}),\n",
       " Counter({1.0: 9, 6.0: 12, 8.0: 1, 2.0: 3, 616.0: 75}),\n",
       " Counter({6.0: 8, 9.0: 2, 3.0: 1, 616.0: 89}),\n",
       " Counter({9.0: 9, 6.0: 6, 3.0: 1, 616.0: 84}),\n",
       " Counter({6.0: 14, 1.0: 9, 2.0: 2, 8.0: 1, 616.0: 74}),\n",
       " Counter({6.0: 12, 0.0: 1, 9.0: 1, 1.0: 3, 616.0: 83}),\n",
       " Counter({9.0: 5, 3.0: 2, 616.0: 93}),\n",
       " Counter({2.0: 5, 1.0: 4, 6.0: 9, 9.0: 2, 0.0: 1, 3.0: 1, 616.0: 78}),\n",
       " Counter({9.0: 3, 6.0: 8, 3.0: 1, 8.0: 1, 0.0: 1, 616.0: 86}),\n",
       " Counter({6.0: 5, 3.0: 1, 9.0: 1, 616.0: 93}),\n",
       " Counter({6.0: 6, 9.0: 3, 3.0: 2, 1.0: 1, 616.0: 88}),\n",
       " Counter({6.0: 12, 1.0: 2, 3.0: 1, 9.0: 1, 0.0: 1, 616.0: 83}),\n",
       " Counter({9.0: 8, 3.0: 7, 6.0: 4, 1.0: 1, 616.0: 80}),\n",
       " Counter({1.0: 9, 6.0: 13, 2.0: 3, 8.0: 1, 616.0: 74}),\n",
       " Counter({9.0: 3, 6.0: 7, 3.0: 1, 0.0: 1, 8.0: 1, 1.0: 3, 616.0: 84}),\n",
       " Counter({1.0: 4, 6.0: 10, 9.0: 1, 2.0: 5, 616.0: 80}),\n",
       " Counter({1.0: 4, 6.0: 8, 9.0: 6, 8.0: 2, 616.0: 80}),\n",
       " Counter({6.0: 14, 1.0: 2, 5.0: 1, 9.0: 2, 0.0: 1, 3.0: 1, 616.0: 79}),\n",
       " Counter({6.0: 6, 1.0: 8, 9.0: 7, 2.0: 1, 616.0: 78}),\n",
       " Counter({9.0: 4, 6.0: 10, 2.0: 2, 1.0: 3, 616.0: 81}),\n",
       " Counter({6.0: 15, 9.0: 4, 1.0: 3, 5.0: 1, 616.0: 77}),\n",
       " Counter({9.0: 12, 3.0: 5, 616.0: 83}),\n",
       " Counter({6.0: 4, 9.0: 4, 3.0: 2, 616.0: 90}),\n",
       " Counter({6.0: 7, 3.0: 2, 1.0: 4, 2.0: 1, 9.0: 1, 0.0: 1, 616.0: 84}),\n",
       " Counter({6.0: 7, 1.0: 11, 9.0: 2, 0.0: 2, 2.0: 1, 616.0: 77}),\n",
       " Counter({9.0: 6, 3.0: 10, 1.0: 1, 6.0: 3, 616.0: 80}),\n",
       " Counter({6.0: 11, 3.0: 1, 1.0: 2, 2.0: 1, 616.0: 85}),\n",
       " Counter({9.0: 5, 6.0: 7, 3.0: 2, 1.0: 1, 616.0: 85}),\n",
       " Counter({6.0: 6, 3.0: 3, 9.0: 4, 616.0: 87}),\n",
       " Counter({2.0: 4, 1.0: 10, 8.0: 1, 6.0: 11, 616.0: 74}),\n",
       " Counter({6.0: 9, 2.0: 1, 1.0: 3, 9.0: 2, 3.0: 1, 0.0: 1, 616.0: 83}),\n",
       " Counter({9.0: 6, 3.0: 1, 6.0: 1, 616.0: 92}),\n",
       " Counter({9.0: 4, 6.0: 11, 2.0: 2, 1.0: 1, 3.0: 1, 616.0: 81}),\n",
       " Counter({9.0: 7, 3.0: 4, 6.0: 1, 616.0: 88}),\n",
       " Counter({9.0: 10, 3.0: 5, 6.0: 8, 1.0: 1, 0.0: 1, 616.0: 75}),\n",
       " Counter({1.0: 6, 6.0: 5, 9.0: 2, 3.0: 2, 2.0: 4, 616.0: 81}),\n",
       " Counter({1.0: 4, 6.0: 8, 3.0: 2, 9.0: 5, 0.0: 1, 2.0: 1, 616.0: 79}),\n",
       " Counter({6.0: 12, 9.0: 12, 3.0: 3, 0.0: 1, 616.0: 72}),\n",
       " Counter({1.0: 1, 6.0: 7, 3.0: 3, 9.0: 1, 616.0: 88}),\n",
       " Counter({9.0: 4, 3.0: 3, 6.0: 2, 616.0: 91}),\n",
       " Counter({9.0: 10, 6.0: 10, 3.0: 1, 616.0: 79}),\n",
       " Counter({6.0: 4, 3.0: 1, 9.0: 1, 616.0: 94}),\n",
       " Counter({9.0: 7, 3.0: 2, 6.0: 2, 616.0: 89}),\n",
       " Counter({1.0: 5, 6.0: 6, 2.0: 5, 9.0: 4, 3.0: 1, 616.0: 79}),\n",
       " Counter({6.0: 3, 9.0: 6, 3.0: 3, 616.0: 88}),\n",
       " Counter({6.0: 14, 1.0: 1, 9.0: 1, 0.0: 1, 616.0: 83}),\n",
       " Counter({3.0: 8, 9.0: 8, 1.0: 1, 616.0: 83}),\n",
       " Counter({6.0: 11, 5.0: 1, 1.0: 2, 0.0: 1, 9.0: 3, 3.0: 1, 616.0: 81}),\n",
       " Counter({3.0: 4, 6.0: 10, 9.0: 10, 0.0: 1, 1.0: 1, 616.0: 74}),\n",
       " Counter({3.0: 4, 9.0: 7, 6.0: 4, 616.0: 85}),\n",
       " Counter({2.0: 3, 9.0: 3, 6.0: 10, 1.0: 3, 616.0: 81}),\n",
       " Counter({6.0: 11, 3.0: 1, 0.0: 1, 9.0: 2, 1.0: 3, 616.0: 82}),\n",
       " Counter({3.0: 8, 9.0: 7, 1.0: 1, 6.0: 1, 616.0: 83}),\n",
       " Counter({9.0: 12, 3.0: 8, 616.0: 80}),\n",
       " Counter({2.0: 3, 1.0: 4, 9.0: 3, 6.0: 8, 8.0: 1, 616.0: 81}),\n",
       " Counter({1.0: 9, 6.0: 6, 9.0: 2, 0.0: 2, 616.0: 81}),\n",
       " Counter({9.0: 3, 6.0: 7, 4.0: 1, 616.0: 89}),\n",
       " Counter({1.0: 2, 6.0: 14, 9.0: 3, 8.0: 1, 616.0: 80}),\n",
       " Counter({9.0: 12, 3.0: 5, 6.0: 1, 616.0: 82}),\n",
       " Counter({6.0: 5, 3.0: 3, 9.0: 9, 1.0: 1, 7.0: 1, 0.0: 1, 616.0: 80}),\n",
       " Counter({6.0: 6, 1.0: 1, 9.0: 5, 3.0: 2, 8.0: 1, 2.0: 1, 616.0: 84}),\n",
       " Counter({6.0: 14, 1.0: 9, 2.0: 3, 8.0: 1, 616.0: 73}),\n",
       " Counter({9.0: 5, 1.0: 6, 6.0: 8, 8.0: 2, 2.0: 1, 5.0: 1, 616.0: 77}),\n",
       " Counter({1.0: 2, 6.0: 11, 3.0: 1, 9.0: 1, 2.0: 1, 616.0: 84}),\n",
       " Counter({1.0: 10, 6.0: 12, 2.0: 3, 8.0: 1, 616.0: 74}),\n",
       " Counter({9.0: 4, 6.0: 4, 3.0: 2, 616.0: 90}),\n",
       " Counter({6.0: 5, 1.0: 6, 9.0: 2, 2.0: 5, 0.0: 1, 3.0: 1, 616.0: 80}),\n",
       " Counter({3.0: 6, 1.0: 1, 9.0: 12, 616.0: 81}),\n",
       " Counter({1.0: 2, 6.0: 15, 9.0: 2, 8.0: 1, 616.0: 80}),\n",
       " Counter({2.0: 6, 1.0: 5, 0.0: 1, 6.0: 8, 9.0: 2, 616.0: 78}),\n",
       " Counter({1.0: 3, 2.0: 1, 6.0: 8, 0.0: 1, 3.0: 1, 9.0: 1, 616.0: 85}),\n",
       " Counter({9.0: 5, 3.0: 9, 1.0: 1, 6.0: 3, 616.0: 82}),\n",
       " Counter({6.0: 6, 9.0: 7, 3.0: 2, 1.0: 1, 616.0: 84}),\n",
       " Counter({6.0: 8, 9.0: 8, 3.0: 3, 1.0: 1, 0.0: 1, 7.0: 1, 616.0: 78}),\n",
       " Counter({6.0: 7, 9.0: 1, 3.0: 1, 616.0: 91}),\n",
       " Counter({6.0: 12, 1.0: 11, 2.0: 5, 8.0: 1, 9.0: 1, 616.0: 70}),\n",
       " Counter({2.0: 5, 1.0: 13, 6.0: 9, 616.0: 73}),\n",
       " Counter({6.0: 10, 1.0: 4, 8.0: 1, 9.0: 1, 616.0: 84}),\n",
       " Counter({6.0: 11, 1.0: 6, 0.0: 1, 9.0: 2, 616.0: 80}),\n",
       " Counter({9.0: 3, 6.0: 5, 8.0: 1, 3.0: 1, 0.0: 1, 1.0: 2, 616.0: 87}),\n",
       " Counter({6.0: 3, 3.0: 2, 9.0: 2, 616.0: 93}),\n",
       " Counter({2.0: 5, 6.0: 9, 1.0: 6, 9.0: 2, 3.0: 1, 616.0: 77}),\n",
       " Counter({6.0: 4, 9.0: 1, 616.0: 95}),\n",
       " Counter({6.0: 5, 9.0: 2, 616.0: 93}),\n",
       " Counter({6.0: 3, 9.0: 7, 3.0: 1, 616.0: 89}),\n",
       " Counter({1.0: 3, 6.0: 14, 9.0: 3, 5.0: 1, 0.0: 1, 8.0: 1, 616.0: 77}),\n",
       " Counter({9.0: 8, 1.0: 1, 616.0: 91}),\n",
       " Counter({9.0: 5, 6.0: 1, 3.0: 4, 616.0: 90}),\n",
       " Counter({6.0: 8, 5.0: 1, 3.0: 1, 0.0: 1, 9.0: 1, 1.0: 3, 616.0: 85}),\n",
       " Counter({9.0: 3, 3.0: 4, 616.0: 93}),\n",
       " Counter({1.0: 9, 9.0: 3, 6.0: 6, 2.0: 2, 0.0: 2, 616.0: 78}),\n",
       " Counter({9.0: 9, 6.0: 10, 0.0: 1, 3.0: 3, 1.0: 1, 7.0: 1, 616.0: 75}),\n",
       " Counter({9.0: 9, 6.0: 8, 1.0: 1, 3.0: 3, 7.0: 1, 0.0: 1, 616.0: 77}),\n",
       " Counter({1.0: 3, 6.0: 10, 0.0: 2, 3.0: 1, 9.0: 2, 2.0: 1, 616.0: 81}),\n",
       " Counter({6.0: 13, 1.0: 10, 2.0: 6, 9.0: 2, 616.0: 69}),\n",
       " Counter({3.0: 10, 9.0: 5, 1.0: 1, 6.0: 2, 616.0: 82}),\n",
       " Counter({6.0: 15, 2.0: 1, 1.0: 2, 616.0: 82}),\n",
       " Counter({6.0: 4, 9.0: 7, 3.0: 3, 616.0: 86}),\n",
       " Counter({9.0: 5, 6.0: 6, 1.0: 5, 8.0: 2, 5.0: 1, 3.0: 1, 616.0: 80}),\n",
       " Counter({9.0: 4, 8.0: 1, 0.0: 2, 1.0: 3, 6.0: 3, 3.0: 1, 2.0: 1, 616.0: 85}),\n",
       " Counter({6.0: 16, 9.0: 2, 1.0: 3, 5.0: 1, 0.0: 1, 3.0: 1, 8.0: 1, 616.0: 75}),\n",
       " Counter({9.0: 6, 3.0: 3, 616.0: 91}),\n",
       " Counter({6.0: 8, 2.0: 3, 1.0: 4, 0.0: 1, 9.0: 2, 3.0: 1, 616.0: 81}),\n",
       " Counter({6.0: 5, 9.0: 7, 1.0: 6, 2.0: 1, 8.0: 3, 5.0: 1, 616.0: 77}),\n",
       " Counter({1.0: 5, 6.0: 7, 2.0: 4, 3.0: 1, 0.0: 1, 9.0: 1, 616.0: 81}),\n",
       " Counter({6.0: 14, 9.0: 1, 3.0: 1, 1.0: 1, 616.0: 83}),\n",
       " Counter({9.0: 7, 3.0: 5, 6.0: 1, 616.0: 87}),\n",
       " Counter({3.0: 10, 9.0: 9, 1.0: 1, 616.0: 80}),\n",
       " Counter({6.0: 5, 9.0: 2, 1.0: 5, 0.0: 1, 2.0: 6, 616.0: 81}),\n",
       " Counter({3.0: 5, 9.0: 6, 6.0: 3, 1.0: 1, 616.0: 85}),\n",
       " Counter({6.0: 8, 9.0: 1, 3.0: 3, 1.0: 1, 616.0: 87}),\n",
       " Counter({9.0: 8, 6.0: 9, 3.0: 2, 0.0: 1, 1.0: 1, 616.0: 79}),\n",
       " Counter({3.0: 3, 9.0: 8, 6.0: 3, 616.0: 86}),\n",
       " Counter({9.0: 8, 3.0: 2, 6.0: 1, 616.0: 89}),\n",
       " Counter({6.0: 9, 2.0: 5, 1.0: 5, 9.0: 1, 0.0: 2, 616.0: 78}),\n",
       " Counter({1.0: 4, 6.0: 9, 0.0: 2, 3.0: 2, 2.0: 2, 9.0: 1, 616.0: 80}),\n",
       " Counter({1.0: 3, 6.0: 15, 8.0: 1, 9.0: 3, 616.0: 78}),\n",
       " Counter({1.0: 3, 6.0: 13, 8.0: 2, 9.0: 1, 616.0: 81}),\n",
       " Counter({9.0: 8, 3.0: 1, 6.0: 2, 1.0: 1, 616.0: 88}),\n",
       " Counter({1.0: 3, 0.0: 2, 9.0: 3, 6.0: 9, 2.0: 1, 3.0: 1, 616.0: 81}),\n",
       " Counter({9.0: 7, 3.0: 1, 616.0: 92}),\n",
       " Counter({3.0: 2, 6.0: 6, 9.0: 2, 1.0: 2, 616.0: 88}),\n",
       " Counter({9.0: 6, 1.0: 7, 8.0: 1, 6.0: 5, 2.0: 2, 5.0: 1, 616.0: 78}),\n",
       " Counter({9.0: 4, 6.0: 6, 8.0: 2, 3.0: 2, 1.0: 1, 2.0: 1, 616.0: 84}),\n",
       " Counter({6.0: 7, 2.0: 3, 1.0: 9, 9.0: 1, 616.0: 80}),\n",
       " Counter({1.0: 10, 6.0: 13, 2.0: 5, 8.0: 1, 9.0: 1, 616.0: 70}),\n",
       " Counter({3.0: 4, 9.0: 6, 6.0: 1, 616.0: 89}),\n",
       " Counter({9.0: 3, 1.0: 2, 6.0: 7, 3.0: 2, 2.0: 2, 8.0: 1, 616.0: 83}),\n",
       " Counter({6.0: 6, 616.0: 94}),\n",
       " Counter({1.0: 6, 6.0: 7, 9.0: 2, 2.0: 2, 616.0: 83}),\n",
       " Counter({6.0: 5, 1.0: 6, 2.0: 4, 8.0: 1, 9.0: 1, 616.0: 83}),\n",
       " Counter({9.0: 8, 1.0: 1, 6.0: 9, 7.0: 1, 3.0: 2, 0.0: 1, 616.0: 78}),\n",
       " Counter({6.0: 7, 1.0: 4, 2.0: 4, 9.0: 1, 0.0: 2, 616.0: 82}),\n",
       " Counter({6.0: 8, 0.0: 1, 5.0: 1, 1.0: 2, 3.0: 2, 9.0: 2, 10.0: 1, 616.0: 83}),\n",
       " Counter({9.0: 11, 3.0: 5, 6.0: 1, 616.0: 83}),\n",
       " Counter({9.0: 8, 1.0: 1, 616.0: 91}),\n",
       " Counter({2.0: 4, 6.0: 7, 1.0: 7, 0.0: 1, 9.0: 2, 616.0: 79}),\n",
       " Counter({1.0: 12, 2.0: 3, 8.0: 1, 6.0: 10, 616.0: 74}),\n",
       " Counter({9.0: 2, 3.0: 6, 616.0: 92}),\n",
       " Counter({3.0: 3, 9.0: 9, 0.0: 1, 6.0: 9, 1.0: 1, 7.0: 1, 616.0: 76}),\n",
       " Counter({6.0: 6, 1.0: 9, 2.0: 4, 9.0: 2, 0.0: 1, 616.0: 78}),\n",
       " Counter({3.0: 6, 9.0: 2, 616.0: 92}),\n",
       " Counter({9.0: 8, 6.0: 1, 3.0: 3, 616.0: 88}),\n",
       " Counter({6.0: 7, 9.0: 7, 4.0: 1, 3.0: 1, 616.0: 84}),\n",
       " Counter({6.0: 8, 3.0: 2, 9.0: 5, 1.0: 1, 616.0: 84}),\n",
       " Counter({3.0: 3, 9.0: 6, 6.0: 3, 616.0: 88}),\n",
       " Counter({9.0: 6, 3.0: 10, 616.0: 84}),\n",
       " Counter({9.0: 7, 6.0: 8, 4.0: 1, 616.0: 84}),\n",
       " Counter({1.0: 9, 6.0: 6, 2.0: 3, 9.0: 3, 616.0: 79}),\n",
       " Counter({2.0: 3, 6.0: 5, 9.0: 1, 1.0: 7, 0.0: 1, 3.0: 2, 616.0: 81}),\n",
       " Counter({3.0: 2, 6.0: 11, 0.0: 1, 9.0: 7, 1.0: 1, 7.0: 1, 616.0: 77}),\n",
       " Counter({1.0: 8, 6.0: 11, 2.0: 3, 9.0: 2, 616.0: 76}),\n",
       " Counter({6.0: 14, 9.0: 1, 1.0: 5, 2.0: 1, 616.0: 79}),\n",
       " Counter({6.0: 4, 1.0: 4, 0.0: 2, 9.0: 4, 2.0: 1, 8.0: 1, 616.0: 84}),\n",
       " Counter({0.0: 1, 6.0: 10, 1.0: 5, 3.0: 1, 2.0: 2, 616.0: 81}),\n",
       " Counter({3.0: 11, 1.0: 1, 9.0: 6, 616.0: 82}),\n",
       " Counter({9.0: 5, 6.0: 4, 1.0: 2, 616.0: 89}),\n",
       " Counter({9.0: 6, 3.0: 4, 6.0: 1, 616.0: 89}),\n",
       " Counter({0.0: 1, 1.0: 2, 5.0: 1, 6.0: 12, 3.0: 2, 10.0: 1, 616.0: 81}),\n",
       " Counter({3.0: 3, 9.0: 10, 616.0: 87}),\n",
       " Counter({6.0: 11, 3.0: 3, 9.0: 10, 7.0: 1, 0.0: 1, 616.0: 74}),\n",
       " Counter({6.0: 7, 8.0: 2, 1.0: 4, 2.0: 1, 616.0: 86}),\n",
       " Counter({1.0: 7, 8.0: 1, 9.0: 2, 2.0: 2, 6.0: 5, 616.0: 83}),\n",
       " Counter({6.0: 9, 9.0: 9, 0.0: 1, 3.0: 1, 1.0: 1, 616.0: 79}),\n",
       " Counter({9.0: 9, 1.0: 1, 616.0: 90}),\n",
       " Counter({6.0: 11, 3.0: 1, 9.0: 2, 1.0: 2, 0.0: 1, 5.0: 1, 616.0: 82}),\n",
       " Counter({9.0: 3, 1.0: 8, 6.0: 4, 5.0: 1, 2.0: 2, 8.0: 2, 616.0: 80}),\n",
       " Counter({1.0: 3, 0.0: 2, 9.0: 3, 2.0: 1, 6.0: 7, 3.0: 1, 8.0: 1, 616.0: 82}),\n",
       " Counter({6.0: 5, 9.0: 4, 3.0: 4, 616.0: 87}),\n",
       " Counter({2.0: 5, 6.0: 10, 1.0: 11, 9.0: 2, 616.0: 72}),\n",
       " Counter({9.0: 1, 6.0: 5, 1.0: 6, 2.0: 6, 0.0: 2, 616.0: 80}),\n",
       " Counter({3.0: 7, 9.0: 8, 6.0: 2, 616.0: 83}),\n",
       " Counter({9.0: 8, 3.0: 4, 616.0: 88}),\n",
       " Counter({2.0: 5, 1.0: 10, 8.0: 1, 6.0: 7, 9.0: 1, 616.0: 76}),\n",
       " Counter({2.0: 1, 6.0: 12, 1.0: 4, 3.0: 2, 0.0: 1, 616.0: 80}),\n",
       " Counter({2.0: 4, 9.0: 2, 6.0: 9, 1.0: 4, 0.0: 1, 616.0: 80}),\n",
       " Counter({6.0: 10, 1.0: 7, 2.0: 3, 9.0: 4, 616.0: 76}),\n",
       " Counter({6.0: 13, 1.0: 2, 8.0: 2, 2.0: 1, 3.0: 1, 616.0: 81}),\n",
       " Counter({3.0: 7, 9.0: 6, 616.0: 87}),\n",
       " Counter({6.0: 4, 9.0: 2, 0.0: 2, 1.0: 5, 2.0: 6, 616.0: 81}),\n",
       " ...]"
      ]
     },
     "execution_count": 124,
     "metadata": {},
     "output_type": "execute_result"
    }
   ],
   "source": [
    "celltype_counters"
   ]
  },
  {
   "cell_type": "code",
   "execution_count": 127,
   "id": "96a247d2-57ff-4fe0-ba8a-ec31cfc13bbf",
   "metadata": {},
   "outputs": [
    {
     "ename": "TypeError",
     "evalue": "arange() got an unexpected keyword argument 'type'",
     "output_type": "error",
     "traceback": [
      "\u001b[0;31m---------------------------------------------------------------------------\u001b[0m",
      "\u001b[0;31mTypeError\u001b[0m                                 Traceback (most recent call last)",
      "Input \u001b[0;32mIn [127]\u001b[0m, in \u001b[0;36m<cell line: 1>\u001b[0;34m()\u001b[0m\n\u001b[0;32m----> 1\u001b[0m value_range \u001b[38;5;241m=\u001b[39m \u001b[43mnp\u001b[49m\u001b[38;5;241;43m.\u001b[39;49m\u001b[43marange\u001b[49m\u001b[43m(\u001b[49m\u001b[38;5;241;43m12\u001b[39;49m\u001b[43m,\u001b[49m\u001b[43m \u001b[49m\u001b[38;5;28;43mtype\u001b[39;49m\u001b[43m \u001b[49m\u001b[38;5;241;43m=\u001b[39;49m\u001b[43m \u001b[49m\u001b[38;5;28;43mint\u001b[39;49m\u001b[43m)\u001b[49m\n",
      "\u001b[0;31mTypeError\u001b[0m: arange() got an unexpected keyword argument 'type'"
     ]
    }
   ],
   "source": [
    "value_range = np.arange(12)"
   ]
  },
  {
   "cell_type": "code",
   "execution_count": 137,
   "id": "2b8ba3b6-76d9-43e4-ac3c-2e6b0c51b7ae",
   "metadata": {},
   "outputs": [],
   "source": [
    "value_range = np.array(value_range, dtype = 'int64')"
   ]
  },
  {
   "cell_type": "code",
   "execution_count": 141,
   "id": "1df3f3b5-3642-43d5-9b4c-221901092a45",
   "metadata": {},
   "outputs": [
    {
     "data": {
      "text/plain": [
       "array([ 0,  1,  2,  3,  4,  5,  6,  7,  8,  9, 10, 11])"
      ]
     },
     "execution_count": 141,
     "metadata": {},
     "output_type": "execute_result"
    }
   ],
   "source": [
    "value_range"
   ]
  },
  {
   "cell_type": "code",
   "execution_count": 142,
   "id": "efde149f-db37-43a0-8474-ef2bcadd0a48",
   "metadata": {},
   "outputs": [
    {
     "data": {
      "text/plain": [
       "array([[  9,   3,   3, ..., 616, 616, 616],\n",
       "       [  9,   9,   9, ..., 616, 616, 616],\n",
       "       [  9,   9,   3, ..., 616, 616, 616],\n",
       "       ...,\n",
       "       [616, 616, 616, ..., 616, 616, 616],\n",
       "       [616, 616, 616, ..., 616, 616, 616],\n",
       "       [616, 616, 616, ..., 616, 616, 616]])"
      ]
     },
     "execution_count": 142,
     "metadata": {},
     "output_type": "execute_result"
    }
   ],
   "source": [
    "array_without_nan.astype('int64')"
   ]
  },
  {
   "cell_type": "code",
   "execution_count": 144,
   "id": "dfb4da85-7290-4931-8045-aa6eaff95e27",
   "metadata": {},
   "outputs": [
    {
     "data": {
      "text/plain": [
       "array([[  9.,   3.,   3., ..., 616., 616., 616.],\n",
       "       [  9.,   9.,   9., ..., 616., 616., 616.],\n",
       "       [  9.,   9.,   3., ..., 616., 616., 616.],\n",
       "       ...,\n",
       "       [616., 616., 616., ..., 616., 616., 616.],\n",
       "       [616., 616., 616., ..., 616., 616., 616.],\n",
       "       [616., 616., 616., ..., 616., 616., 616.]])"
      ]
     },
     "execution_count": 144,
     "metadata": {},
     "output_type": "execute_result"
    }
   ],
   "source": [
    "array_without_nan"
   ]
  },
  {
   "cell_type": "code",
   "execution_count": 145,
   "id": "d0ff737b-2bd6-4361-8dea-3d236252d8ca",
   "metadata": {},
   "outputs": [],
   "source": [
    "# Count occurrences of each value in each row\n",
    "occurrences = np.apply_along_axis(lambda row: np.bincount(row, minlength=len(value_range)), axis=1, arr=array_without_nan.astype('int64'))"
   ]
  },
  {
   "cell_type": "code",
   "execution_count": 147,
   "id": "bcace236-4aa3-43e2-897e-3cf3565d427a",
   "metadata": {},
   "outputs": [
    {
     "data": {
      "text/plain": [
       "(61170, 617)"
      ]
     },
     "execution_count": 147,
     "metadata": {},
     "output_type": "execute_result"
    }
   ],
   "source": [
    "occurrences.shape"
   ]
  },
  {
   "cell_type": "code",
   "execution_count": 149,
   "id": "619906b7-258d-4097-940f-3b25fc29c7ff",
   "metadata": {},
   "outputs": [
    {
     "data": {
      "text/plain": [
       "array([[0, 0, 0, ..., 0, 2, 0],\n",
       "       [0, 0, 0, ..., 0, 4, 0],\n",
       "       [0, 0, 0, ..., 0, 6, 0],\n",
       "       ...,\n",
       "       [0, 0, 0, ..., 0, 0, 0],\n",
       "       [0, 0, 0, ..., 0, 0, 0],\n",
       "       [0, 0, 0, ..., 0, 0, 0]])"
      ]
     },
     "execution_count": 149,
     "metadata": {},
     "output_type": "execute_result"
    }
   ],
   "source": [
    "occurrences[:, 0:11]"
   ]
  },
  {
   "cell_type": "code",
   "execution_count": 152,
   "id": "ee9a40da-e979-4863-86dd-f49e7eb2e6f8",
   "metadata": {},
   "outputs": [
    {
     "data": {
      "text/html": [
       "<div>\n",
       "<style scoped>\n",
       "    .dataframe tbody tr th:only-of-type {\n",
       "        vertical-align: middle;\n",
       "    }\n",
       "\n",
       "    .dataframe tbody tr th {\n",
       "        vertical-align: top;\n",
       "    }\n",
       "\n",
       "    .dataframe thead th {\n",
       "        text-align: right;\n",
       "    }\n",
       "</style>\n",
       "<table border=\"1\" class=\"dataframe\">\n",
       "  <thead>\n",
       "    <tr style=\"text-align: right;\">\n",
       "      <th></th>\n",
       "      <th>0</th>\n",
       "      <th>1</th>\n",
       "      <th>2</th>\n",
       "      <th>3</th>\n",
       "      <th>4</th>\n",
       "      <th>5</th>\n",
       "      <th>6</th>\n",
       "      <th>7</th>\n",
       "      <th>8</th>\n",
       "      <th>9</th>\n",
       "      <th>10</th>\n",
       "    </tr>\n",
       "  </thead>\n",
       "  <tbody>\n",
       "    <tr>\n",
       "      <th>0</th>\n",
       "      <td>0</td>\n",
       "      <td>0</td>\n",
       "      <td>0</td>\n",
       "      <td>2</td>\n",
       "      <td>0</td>\n",
       "      <td>0</td>\n",
       "      <td>0</td>\n",
       "      <td>0</td>\n",
       "      <td>0</td>\n",
       "      <td>2</td>\n",
       "      <td>0</td>\n",
       "    </tr>\n",
       "    <tr>\n",
       "      <th>1</th>\n",
       "      <td>0</td>\n",
       "      <td>0</td>\n",
       "      <td>0</td>\n",
       "      <td>1</td>\n",
       "      <td>0</td>\n",
       "      <td>0</td>\n",
       "      <td>0</td>\n",
       "      <td>0</td>\n",
       "      <td>0</td>\n",
       "      <td>4</td>\n",
       "      <td>0</td>\n",
       "    </tr>\n",
       "    <tr>\n",
       "      <th>2</th>\n",
       "      <td>0</td>\n",
       "      <td>0</td>\n",
       "      <td>0</td>\n",
       "      <td>1</td>\n",
       "      <td>0</td>\n",
       "      <td>0</td>\n",
       "      <td>0</td>\n",
       "      <td>0</td>\n",
       "      <td>0</td>\n",
       "      <td>6</td>\n",
       "      <td>0</td>\n",
       "    </tr>\n",
       "    <tr>\n",
       "      <th>3</th>\n",
       "      <td>0</td>\n",
       "      <td>0</td>\n",
       "      <td>0</td>\n",
       "      <td>1</td>\n",
       "      <td>0</td>\n",
       "      <td>0</td>\n",
       "      <td>0</td>\n",
       "      <td>0</td>\n",
       "      <td>0</td>\n",
       "      <td>8</td>\n",
       "      <td>0</td>\n",
       "    </tr>\n",
       "    <tr>\n",
       "      <th>4</th>\n",
       "      <td>0</td>\n",
       "      <td>0</td>\n",
       "      <td>0</td>\n",
       "      <td>3</td>\n",
       "      <td>0</td>\n",
       "      <td>0</td>\n",
       "      <td>0</td>\n",
       "      <td>0</td>\n",
       "      <td>0</td>\n",
       "      <td>6</td>\n",
       "      <td>0</td>\n",
       "    </tr>\n",
       "    <tr>\n",
       "      <th>...</th>\n",
       "      <td>...</td>\n",
       "      <td>...</td>\n",
       "      <td>...</td>\n",
       "      <td>...</td>\n",
       "      <td>...</td>\n",
       "      <td>...</td>\n",
       "      <td>...</td>\n",
       "      <td>...</td>\n",
       "      <td>...</td>\n",
       "      <td>...</td>\n",
       "      <td>...</td>\n",
       "    </tr>\n",
       "    <tr>\n",
       "      <th>61165</th>\n",
       "      <td>0</td>\n",
       "      <td>0</td>\n",
       "      <td>0</td>\n",
       "      <td>0</td>\n",
       "      <td>0</td>\n",
       "      <td>0</td>\n",
       "      <td>0</td>\n",
       "      <td>0</td>\n",
       "      <td>0</td>\n",
       "      <td>0</td>\n",
       "      <td>0</td>\n",
       "    </tr>\n",
       "    <tr>\n",
       "      <th>61166</th>\n",
       "      <td>0</td>\n",
       "      <td>0</td>\n",
       "      <td>0</td>\n",
       "      <td>0</td>\n",
       "      <td>0</td>\n",
       "      <td>0</td>\n",
       "      <td>0</td>\n",
       "      <td>0</td>\n",
       "      <td>0</td>\n",
       "      <td>0</td>\n",
       "      <td>0</td>\n",
       "    </tr>\n",
       "    <tr>\n",
       "      <th>61167</th>\n",
       "      <td>0</td>\n",
       "      <td>0</td>\n",
       "      <td>0</td>\n",
       "      <td>0</td>\n",
       "      <td>0</td>\n",
       "      <td>0</td>\n",
       "      <td>0</td>\n",
       "      <td>0</td>\n",
       "      <td>0</td>\n",
       "      <td>0</td>\n",
       "      <td>0</td>\n",
       "    </tr>\n",
       "    <tr>\n",
       "      <th>61168</th>\n",
       "      <td>0</td>\n",
       "      <td>0</td>\n",
       "      <td>0</td>\n",
       "      <td>0</td>\n",
       "      <td>0</td>\n",
       "      <td>0</td>\n",
       "      <td>0</td>\n",
       "      <td>0</td>\n",
       "      <td>0</td>\n",
       "      <td>0</td>\n",
       "      <td>0</td>\n",
       "    </tr>\n",
       "    <tr>\n",
       "      <th>61169</th>\n",
       "      <td>0</td>\n",
       "      <td>0</td>\n",
       "      <td>0</td>\n",
       "      <td>0</td>\n",
       "      <td>0</td>\n",
       "      <td>0</td>\n",
       "      <td>0</td>\n",
       "      <td>0</td>\n",
       "      <td>0</td>\n",
       "      <td>0</td>\n",
       "      <td>0</td>\n",
       "    </tr>\n",
       "  </tbody>\n",
       "</table>\n",
       "<p>61170 rows × 11 columns</p>\n",
       "</div>"
      ],
      "text/plain": [
       "       0   1   2   3   4   5   6   7   8   9   10\n",
       "0       0   0   0   2   0   0   0   0   0   2   0\n",
       "1       0   0   0   1   0   0   0   0   0   4   0\n",
       "2       0   0   0   1   0   0   0   0   0   6   0\n",
       "3       0   0   0   1   0   0   0   0   0   8   0\n",
       "4       0   0   0   3   0   0   0   0   0   6   0\n",
       "...    ..  ..  ..  ..  ..  ..  ..  ..  ..  ..  ..\n",
       "61165   0   0   0   0   0   0   0   0   0   0   0\n",
       "61166   0   0   0   0   0   0   0   0   0   0   0\n",
       "61167   0   0   0   0   0   0   0   0   0   0   0\n",
       "61168   0   0   0   0   0   0   0   0   0   0   0\n",
       "61169   0   0   0   0   0   0   0   0   0   0   0\n",
       "\n",
       "[61170 rows x 11 columns]"
      ]
     },
     "execution_count": 152,
     "metadata": {},
     "output_type": "execute_result"
    }
   ],
   "source": [
    "pd.DataFrame(occurrences[:, 0:11])"
   ]
  },
  {
   "cell_type": "code",
   "execution_count": 161,
   "id": "a1f45b80-579b-4ed3-9140-746308a611d2",
   "metadata": {},
   "outputs": [
    {
     "data": {
      "text/plain": [
       "(array([106.,   0., 110.,   0.,   0.,  90.,   0.,   0.,  79.,   0.,   0.,\n",
       "         51.,   0.,   0.,  37.,   0.,   0.,  35.,   0.,   0.,  25.,   0.,\n",
       "         39.,   0.,   0.,  19.,   0.,   0.,  13.,   0.,   0.,  15.,   0.,\n",
       "          0.,   4.,   0.,   0.,   3.,   0.,   1.]),\n",
       " array([51.  , 51.35, 51.7 , 52.05, 52.4 , 52.75, 53.1 , 53.45, 53.8 ,\n",
       "        54.15, 54.5 , 54.85, 55.2 , 55.55, 55.9 , 56.25, 56.6 , 56.95,\n",
       "        57.3 , 57.65, 58.  , 58.35, 58.7 , 59.05, 59.4 , 59.75, 60.1 ,\n",
       "        60.45, 60.8 , 61.15, 61.5 , 61.85, 62.2 , 62.55, 62.9 , 63.25,\n",
       "        63.6 , 63.95, 64.3 , 64.65, 65.  ]),\n",
       " <BarContainer object of 40 artists>)"
      ]
     },
     "execution_count": 161,
     "metadata": {},
     "output_type": "execute_result"
    },
    {
     "data": {
      "image/png": "[encoded data removed]",
      "text/plain": [
       "<Figure size 640x480 with 1 Axes>"
      ]
     },
     "metadata": {},
     "output_type": "display_data"
    }
   ],
   "source": [
    "plt.hist(occurrences[:, 0:11].sum(axis = 1)[occurrences[:, 0:11].sum(axis=1) > 50], bins = 40)"
   ]
  },
  {
   "cell_type": "code",
   "execution_count": null,
   "id": "f651007b-eb44-496b-9119-a3b43cebcd22",
   "metadata": {},
   "outputs": [],
   "source": [
    "# Interesting! This is saying that there are cells that have 50-60 cells as neighbors... So within 30 microns of a cell"
   ]
  },
  {
   "cell_type": "code",
   "execution_count": 163,
   "id": "0508f00b-007a-49c4-93a1-57581bc19e77",
   "metadata": {},
   "outputs": [
    {
     "data": {
      "text/plain": [
       "(61170, 11)"
      ]
     },
     "execution_count": 163,
     "metadata": {},
     "output_type": "execute_result"
    }
   ],
   "source": [
    "occurrences[:, 0:11].shape"
   ]
  },
  {
   "cell_type": "code",
   "execution_count": 165,
   "id": "04f676a7-1a36-4179-b906-5c1689dae598",
   "metadata": {},
   "outputs": [],
   "source": [
    "cell_by_neighbors_tabulated_array = occurrences[:, 0:11]"
   ]
  },
  {
   "cell_type": "code",
   "execution_count": 166,
   "id": "5606dfb4-fc55-43bb-93ac-d93626ad9493",
   "metadata": {},
   "outputs": [
    {
     "data": {
      "text/plain": [
       "array([[0, 0, 0, ..., 0, 2, 0],\n",
       "       [0, 0, 0, ..., 0, 4, 0],\n",
       "       [0, 0, 0, ..., 0, 6, 0],\n",
       "       ...,\n",
       "       [0, 0, 0, ..., 0, 0, 0],\n",
       "       [0, 0, 0, ..., 0, 0, 0],\n",
       "       [0, 0, 0, ..., 0, 0, 0]])"
      ]
     },
     "execution_count": 166,
     "metadata": {},
     "output_type": "execute_result"
    }
   ],
   "source": [
    "cell_by_neighbors_tabulated_array"
   ]
  },
  {
   "cell_type": "code",
   "execution_count": 167,
   "id": "6ac4fcd9-12d8-47f0-8acf-f56d1c0fd8c9",
   "metadata": {},
   "outputs": [],
   "source": [
    "# As per the AKI paper, let's center this matrix to mean = 0\n",
    "\n",
    "# Calculate the mean of the entire matrix\n",
    "matrix_mean = np.mean(cell_by_neighbors_tabulated_array)\n",
    "\n",
    "# Subtract the mean from the matrix\n",
    "centered_matrix = cell_by_neighbors_tabulated_array - matrix_mean"
   ]
  },
  {
   "cell_type": "code",
   "execution_count": 170,
   "id": "fd29ef25-0276-4183-b263-e1fa3a02ef70",
   "metadata": {},
   "outputs": [
    {
     "data": {
      "text/plain": [
       "array([[-1.46916195, -1.46916195, -1.46916195, ..., -1.46916195,\n",
       "         0.53083805, -1.46916195],\n",
       "       [-1.46916195, -1.46916195, -1.46916195, ..., -1.46916195,\n",
       "         2.53083805, -1.46916195],\n",
       "       [-1.46916195, -1.46916195, -1.46916195, ..., -1.46916195,\n",
       "         4.53083805, -1.46916195],\n",
       "       ...,\n",
       "       [-1.46916195, -1.46916195, -1.46916195, ..., -1.46916195,\n",
       "        -1.46916195, -1.46916195],\n",
       "       [-1.46916195, -1.46916195, -1.46916195, ..., -1.46916195,\n",
       "        -1.46916195, -1.46916195],\n",
       "       [-1.46916195, -1.46916195, -1.46916195, ..., -1.46916195,\n",
       "        -1.46916195, -1.46916195]])"
      ]
     },
     "execution_count": 170,
     "metadata": {},
     "output_type": "execute_result"
    }
   ],
   "source": [
    "centered_matrix"
   ]
  },
  {
   "cell_type": "code",
   "execution_count": 172,
   "id": "60fc37ac-dce2-4622-9d56-12af489f0743",
   "metadata": {},
   "outputs": [],
   "source": [
    "np.save('./cell_by_neighbors_tabulated_array_for_me_analysis.npy', cell_by_neighbors_tabulated_array)"
   ]
  },
  {
   "cell_type": "code",
   "execution_count": 173,
   "id": "e9005064-99b1-4e1b-9790-66e4044c98ba",
   "metadata": {},
   "outputs": [],
   "source": [
    "np.save('./centered_cell_by_neighbors_matrix.npy', centered_matrix)"
   ]
  },
  {
   "cell_type": "code",
   "execution_count": null,
   "id": "529c9372-423e-4675-97d4-15cbe36545d7",
   "metadata": {},
   "outputs": [],
   "source": [
    "import anndata as ad"
   ]
  },
  {
   "cell_type": "code",
   "execution_count": null,
   "id": "794ab14f-767b-4749-a437-efe6bf00dde0",
   "metadata": {},
   "outputs": [],
   "source": []
  }
 ],
 "metadata": {
  "kernelspec": {
   "display_name": "Python 3 (ipykernel)",
   "language": "python",
   "name": "python3"
  },
  "language_info": {
   "codemirror_mode": {
    "name": "ipython",
    "version": 3
   },
   "file_extension": ".py",
   "mimetype": "text/x-python",
   "name": "python",
   "nbconvert_exporter": "python",
   "pygments_lexer": "ipython3",
   "version": "3.9.7"
  }
 },
 "nbformat": 4,
 "nbformat_minor": 5
}
